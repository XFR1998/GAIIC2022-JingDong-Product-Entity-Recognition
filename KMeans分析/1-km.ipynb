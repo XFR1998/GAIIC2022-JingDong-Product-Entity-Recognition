{
 "cells": [
  {
   "cell_type": "code",
   "execution_count": 1,
   "metadata": {
    "collapsed": true
   },
   "outputs": [],
   "source": [
    "from gensim.models import KeyedVectors\n",
    "import jieba\n",
    "from tqdm import tqdm\n",
    "import numpy as np"
   ]
  },
  {
   "cell_type": "code",
   "execution_count": 2,
   "outputs": [],
   "source": [
    "file = './tencent-ailab-embedding-zh-d100-v0.2.0.txt'\n",
    "wv_from_text = KeyedVectors.load_word2vec_format(file, binary=False) # 加载时间比较长\n",
    "wv_from_text.init_sims(replace=True)"
   ],
   "metadata": {
    "collapsed": false,
    "pycharm": {
     "name": "#%%\n"
    }
   }
  },
  {
   "cell_type": "code",
   "execution_count": 15,
   "outputs": [
    {
     "name": "stdout",
     "output_type": "stream",
     "text": [
      "没找到\n"
     ]
    },
    {
     "name": "stderr",
     "output_type": "stream",
     "text": [
      "F:\\ML_ENVS\\lib\\site-packages\\ipykernel_launcher.py:2: DeprecationWarning: Call to deprecated `wv` (Attribute will be removed in 4.0.0, use self instead).\n",
      "  \n"
     ]
    }
   ],
   "source": [
    "\n",
    "\n",
    "\n",
    "# word = '收具单'\n",
    "# if word in wv_from_text.wv.vocab.keys():\n",
    "#     vec = wv_from_text[word]\n",
    "#\n",
    "# else:\n",
    "#     print(\"没找到\")\n",
    "#"
   ],
   "metadata": {
    "collapsed": false,
    "pycharm": {
     "name": "#%%\n"
    }
   }
  },
  {
   "cell_type": "code",
   "execution_count": 6,
   "outputs": [
    {
     "data": {
      "text/plain": "array([ 2.92185657e-02,  7.80728608e-02, -1.00184474e-02, -1.22626863e-01,\n        4.29811031e-02,  9.87501368e-02,  1.31663829e-01, -8.51712003e-02,\n        4.58825082e-02, -5.84329478e-02,  2.27588844e-02, -1.37897819e-01,\n        1.85871035e-01,  3.37277919e-01, -4.04845513e-02,  4.63230442e-03,\n        4.28233435e-03, -1.52255699e-01, -8.33581015e-02, -5.92389628e-02,\n       -1.87851503e-01, -6.53969049e-02, -2.23124376e-03, -8.93915221e-02,\n        3.37194465e-02,  1.68514788e-01, -1.48360739e-02,  2.40867049e-01,\n        2.49802863e-04,  8.90462250e-02,  1.40307486e-01, -6.79887086e-02,\n        6.60660863e-03, -1.11807570e-01,  3.13260183e-02,  1.03694759e-01,\n        3.04796398e-02, -3.44137251e-02,  9.64701697e-02,  7.94673339e-02,\n       -7.03875497e-02, -3.20636109e-02,  7.28720427e-02, -2.31091008e-02,\n        4.72262735e-03,  1.29971316e-03, -1.76367953e-01,  1.42121330e-01,\n        1.06435947e-01,  1.22071151e-03, -5.81828952e-02, -6.25009164e-02,\n       -4.58039977e-02, -7.09587755e-03, -1.04834259e-01, -2.09105909e-02,\n        6.67665228e-02,  1.84654996e-01,  4.94983718e-02, -1.06097795e-01,\n       -1.84904307e-01,  1.00763574e-01,  1.25533929e-02, -7.76111558e-02,\n        2.02724226e-02, -6.75338879e-02, -2.12930460e-02, -8.43885690e-02,\n        1.00371521e-02, -1.13203758e-02,  7.08519593e-02,  2.03407943e-01,\n       -3.32619250e-02,  8.21167156e-02, -1.04965188e-01,  2.28647143e-02,\n       -4.42409469e-03, -1.72056314e-02, -4.27546799e-02, -4.19021510e-02,\n        2.19432727e-01, -8.67101401e-02, -5.02342433e-02,  3.05898972e-02,\n       -1.55396804e-01, -3.77460709e-03, -9.56200957e-02, -1.30372226e-01,\n       -5.48001006e-02, -1.30623514e-02, -2.72436202e-01, -4.70308587e-02,\n       -9.73620713e-02, -6.29887134e-02,  1.42025836e-02, -1.50239557e-01,\n        8.68447572e-02, -4.52266186e-02,  6.28597513e-02, -6.37915283e-02],\n      dtype=float32)"
     },
     "execution_count": 6,
     "metadata": {},
     "output_type": "execute_result"
    }
   ],
   "source": [
    "# vec\n"
   ],
   "metadata": {
    "collapsed": false,
    "pycharm": {
     "name": "#%%\n"
    }
   }
  },
  {
   "cell_type": "code",
   "execution_count": 3,
   "outputs": [],
   "source": [
    "with open('训练集实体.txt','r',encoding='utf-8') as f:\n",
    "    entity_list = f.readlines()\n",
    "    entity_list = [i.rstrip().lower() for i in entity_list]\n",
    "    entity_list = list(set(entity_list))"
   ],
   "metadata": {
    "collapsed": false,
    "pycharm": {
     "name": "#%%\n"
    }
   }
  },
  {
   "cell_type": "code",
   "execution_count": 4,
   "outputs": [
    {
     "data": {
      "text/plain": "88856"
     },
     "execution_count": 4,
     "metadata": {},
     "output_type": "execute_result"
    }
   ],
   "source": [
    "len(entity_list)\n"
   ],
   "metadata": {
    "collapsed": false,
    "pycharm": {
     "name": "#%%\n"
    }
   }
  },
  {
   "cell_type": "code",
   "execution_count": 5,
   "outputs": [],
   "source": [
    "#jieba.lcut('三色线'.lower())"
   ],
   "metadata": {
    "collapsed": false,
    "pycharm": {
     "name": "#%%\n"
    }
   }
  },
  {
   "cell_type": "code",
   "execution_count": 6,
   "outputs": [],
   "source": [
    "def is_chinese(string):\n",
    "    \"\"\"\n",
    "    检查整个字符串是否包含中文\n",
    "    :param string: 需要检查的字符串\n",
    "    :return: bool\n",
    "    \"\"\"\n",
    "    for ch in string:\n",
    "        if u'\\u4e00' <= ch <= u'\\u9fff':\n",
    "            return True\n",
    "\n",
    "    return False"
   ],
   "metadata": {
    "collapsed": false,
    "pycharm": {
     "name": "#%%\n"
    }
   }
  },
  {
   "cell_type": "code",
   "execution_count": 7,
   "outputs": [
    {
     "name": "stderr",
     "output_type": "stream",
     "text": [
      "  0%|          | 0/88856 [00:00<?, ?it/s]F:\\ML_ENVS\\lib\\site-packages\\ipykernel_launcher.py:6: DeprecationWarning: Call to deprecated `wv` (Attribute will be removed in 4.0.0, use self instead).\n",
      "  \n",
      "Building prefix dict from the default dictionary ...\n",
      "Loading model from cache C:\\Users\\MACHEN~1\\AppData\\Local\\Temp\\jieba.cache\n",
      "Loading model cost 0.508 seconds.\n",
      "Prefix dict has been built successfully.\n",
      "F:\\ML_ENVS\\lib\\site-packages\\ipykernel_launcher.py:14: DeprecationWarning: Call to deprecated `wv` (Attribute will be removed in 4.0.0, use self instead).\n",
      "  \n",
      "  0%|          | 1/88856 [00:00<14:37:08,  1.69it/s]F:\\ML_ENVS\\lib\\site-packages\\ipykernel_launcher.py:29: DeprecationWarning: Call to deprecated `wv` (Attribute will be removed in 4.0.0, use self instead).\n",
      "100%|██████████| 88856/88856 [00:03<00:00, 23049.21it/s]\n"
     ]
    }
   ],
   "source": [
    "sum = 0\n",
    "fuck = []\n",
    "# entity_list = ['文件架框']\n",
    "entity_vec = []\n",
    "for entity in tqdm(entity_list):\n",
    "    if entity in wv_from_text.wv.vocab.keys():\n",
    "        vec = wv_from_text[entity]\n",
    "    else:\n",
    "        tokens = jieba.lcut(entity)\n",
    "        # print(tokens)\n",
    "        vec = np.zeros((100,))\n",
    "        vec_nums = 0\n",
    "        for t in tokens:\n",
    "            if t in wv_from_text.wv.vocab.keys():\n",
    "                # print(666)\n",
    "                vec += wv_from_text[t]\n",
    "                vec_nums += 1\n",
    "            else:\n",
    "                continue\n",
    "        if vec_nums!=0:\n",
    "            vec = vec/vec_nums\n",
    "        else:\n",
    "            if is_chinese(entity):\n",
    "                tokens = list(entity)\n",
    "                # print(tokens)\n",
    "                vec = np.zeros((100,))\n",
    "                vec_nums = 0\n",
    "                for t in tokens:\n",
    "                    if t in wv_from_text.wv.vocab.keys():\n",
    "                        # print(666)\n",
    "                        vec += wv_from_text[t]\n",
    "                        vec_nums += 1\n",
    "                    else:\n",
    "                        continue\n",
    "            else:\n",
    "                sum+=1\n",
    "                fuck.append(entity)\n",
    "                vec = np.zeros((100, ))\n",
    "    entity_vec.append(vec)"
   ],
   "metadata": {
    "collapsed": false,
    "pycharm": {
     "name": "#%%\n"
    }
   }
  },
  {
   "cell_type": "code",
   "execution_count": 8,
   "outputs": [
    {
     "data": {
      "text/plain": "6734"
     },
     "execution_count": 8,
     "metadata": {},
     "output_type": "execute_result"
    }
   ],
   "source": [
    "sum\n"
   ],
   "metadata": {
    "collapsed": false,
    "pycharm": {
     "name": "#%%\n"
    }
   }
  },
  {
   "cell_type": "code",
   "execution_count": 33,
   "outputs": [],
   "source": [
    "# fuck[-1000:]"
   ],
   "metadata": {
    "collapsed": false,
    "pycharm": {
     "name": "#%%\n"
    }
   }
  },
  {
   "cell_type": "code",
   "execution_count": 9,
   "outputs": [],
   "source": [
    "import pandas as pd\n",
    "df = pd.DataFrame({'entity':[], 'vec':[]})"
   ],
   "metadata": {
    "collapsed": false,
    "pycharm": {
     "name": "#%%\n"
    }
   }
  },
  {
   "cell_type": "code",
   "execution_count": 10,
   "outputs": [],
   "source": [
    "df['entity'] = entity_list\n",
    "df['vec'] = [i.tolist() for i in entity_vec]"
   ],
   "metadata": {
    "collapsed": false,
    "pycharm": {
     "name": "#%%\n"
    }
   }
  },
  {
   "cell_type": "code",
   "execution_count": 12,
   "outputs": [],
   "source": [
    "df.to_excel('./entity_vec.xlsx', index=False)\n"
   ],
   "metadata": {
    "collapsed": false,
    "pycharm": {
     "name": "#%%\n"
    }
   }
  },
  {
   "cell_type": "code",
   "execution_count": 40,
   "outputs": [
    {
     "name": "stdout",
     "output_type": "stream",
     "text": [
      "<class 'pandas.core.frame.DataFrame'>\n",
      "RangeIndex: 88856 entries, 0 to 88855\n",
      "Data columns (total 2 columns):\n",
      " #   Column  Non-Null Count  Dtype \n",
      "---  ------  --------------  ----- \n",
      " 0   entity  88856 non-null  object\n",
      " 1   vec     88856 non-null  object\n",
      "dtypes: object(2)\n",
      "memory usage: 1.4+ MB\n"
     ]
    }
   ],
   "source": [
    "df.info()"
   ],
   "metadata": {
    "collapsed": false,
    "pycharm": {
     "name": "#%%\n"
    }
   }
  },
  {
   "cell_type": "code",
   "execution_count": 11,
   "outputs": [
    {
     "data": {
      "text/plain": "0        [-0.07336725108325481, 0.07891584746539593, -0...\n1        [0.021787447854876518, 0.07235422730445862, 0....\n2        [-0.047374725341796875, 0.043115079402923584, ...\n3        [-0.09834737330675125, 0.18252602219581604, 0....\n4        [0.03371242806315422, -0.02114713378250599, 0....\n                               ...                        \n88851    [0.0, 0.0, 0.0, 0.0, 0.0, 0.0, 0.0, 0.0, 0.0, ...\n88852    [0.040741924196481705, 0.10302446037530899, 0....\n88853    [0.0, 0.0, 0.0, 0.0, 0.0, 0.0, 0.0, 0.0, 0.0, ...\n88854    [-0.08989172428846359, -0.10897351801395416, -...\n88855    [-0.09799960255622864, 0.06539425998926163, -0...\nName: vec, Length: 88856, dtype: object"
     },
     "execution_count": 11,
     "metadata": {},
     "output_type": "execute_result"
    }
   ],
   "source": [],
   "metadata": {
    "collapsed": false,
    "pycharm": {
     "name": "#%%\n"
    }
   }
  },
  {
   "cell_type": "code",
   "execution_count": 5,
   "outputs": [],
   "source": [],
   "metadata": {
    "collapsed": false,
    "pycharm": {
     "name": "#%%\n"
    }
   }
  },
  {
   "cell_type": "code",
   "execution_count": 5,
   "outputs": [],
   "source": [],
   "metadata": {
    "collapsed": false,
    "pycharm": {
     "name": "#%%\n"
    }
   }
  },
  {
   "cell_type": "code",
   "execution_count": 5,
   "outputs": [],
   "source": [],
   "metadata": {
    "collapsed": false,
    "pycharm": {
     "name": "#%%\n"
    }
   }
  },
  {
   "cell_type": "code",
   "execution_count": 5,
   "outputs": [],
   "source": [],
   "metadata": {
    "collapsed": false,
    "pycharm": {
     "name": "#%%\n"
    }
   }
  },
  {
   "cell_type": "code",
   "execution_count": 5,
   "outputs": [],
   "source": [],
   "metadata": {
    "collapsed": false,
    "pycharm": {
     "name": "#%%\n"
    }
   }
  },
  {
   "cell_type": "code",
   "execution_count": 5,
   "outputs": [],
   "source": [],
   "metadata": {
    "collapsed": false,
    "pycharm": {
     "name": "#%%\n"
    }
   }
  },
  {
   "cell_type": "code",
   "execution_count": 5,
   "outputs": [],
   "source": [],
   "metadata": {
    "collapsed": false,
    "pycharm": {
     "name": "#%%\n"
    }
   }
  },
  {
   "cell_type": "code",
   "execution_count": 5,
   "outputs": [],
   "source": [],
   "metadata": {
    "collapsed": false,
    "pycharm": {
     "name": "#%%\n"
    }
   }
  },
  {
   "cell_type": "code",
   "execution_count": 5,
   "outputs": [],
   "source": [],
   "metadata": {
    "collapsed": false,
    "pycharm": {
     "name": "#%%\n"
    }
   }
  },
  {
   "cell_type": "code",
   "execution_count": 5,
   "outputs": [],
   "source": [],
   "metadata": {
    "collapsed": false,
    "pycharm": {
     "name": "#%%\n"
    }
   }
  },
  {
   "cell_type": "code",
   "execution_count": 5,
   "outputs": [],
   "source": [],
   "metadata": {
    "collapsed": false,
    "pycharm": {
     "name": "#%%\n"
    }
   }
  },
  {
   "cell_type": "code",
   "execution_count": 5,
   "outputs": [],
   "source": [],
   "metadata": {
    "collapsed": false,
    "pycharm": {
     "name": "#%%\n"
    }
   }
  },
  {
   "cell_type": "code",
   "execution_count": 5,
   "outputs": [],
   "source": [],
   "metadata": {
    "collapsed": false,
    "pycharm": {
     "name": "#%%\n"
    }
   }
  },
  {
   "cell_type": "code",
   "execution_count": 5,
   "outputs": [],
   "source": [],
   "metadata": {
    "collapsed": false,
    "pycharm": {
     "name": "#%%\n"
    }
   }
  },
  {
   "cell_type": "code",
   "execution_count": 5,
   "outputs": [],
   "source": [],
   "metadata": {
    "collapsed": false,
    "pycharm": {
     "name": "#%%\n"
    }
   }
  },
  {
   "cell_type": "code",
   "execution_count": 5,
   "outputs": [],
   "source": [],
   "metadata": {
    "collapsed": false,
    "pycharm": {
     "name": "#%%\n"
    }
   }
  },
  {
   "cell_type": "code",
   "execution_count": 5,
   "outputs": [],
   "source": [],
   "metadata": {
    "collapsed": false,
    "pycharm": {
     "name": "#%%\n"
    }
   }
  },
  {
   "cell_type": "code",
   "execution_count": 5,
   "outputs": [],
   "source": [],
   "metadata": {
    "collapsed": false,
    "pycharm": {
     "name": "#%%\n"
    }
   }
  },
  {
   "cell_type": "code",
   "execution_count": 5,
   "outputs": [],
   "source": [],
   "metadata": {
    "collapsed": false,
    "pycharm": {
     "name": "#%%\n"
    }
   }
  },
  {
   "cell_type": "code",
   "execution_count": 5,
   "outputs": [],
   "source": [],
   "metadata": {
    "collapsed": false,
    "pycharm": {
     "name": "#%%\n"
    }
   }
  },
  {
   "cell_type": "code",
   "execution_count": null,
   "outputs": [],
   "source": [
    "\n"
   ],
   "metadata": {
    "collapsed": false,
    "pycharm": {
     "name": "#%%\n"
    }
   }
  }
 ],
 "metadata": {
  "kernelspec": {
   "display_name": "Python 3",
   "language": "python",
   "name": "python3"
  },
  "language_info": {
   "codemirror_mode": {
    "name": "ipython",
    "version": 2
   },
   "file_extension": ".py",
   "mimetype": "text/x-python",
   "name": "python",
   "nbconvert_exporter": "python",
   "pygments_lexer": "ipython2",
   "version": "2.7.6"
  }
 },
 "nbformat": 4,
 "nbformat_minor": 0
}