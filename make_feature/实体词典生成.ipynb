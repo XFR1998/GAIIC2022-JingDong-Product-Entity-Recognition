{
 "cells": [
  {
   "cell_type": "code",
   "execution_count": 31,
   "metadata": {
    "collapsed": true
   },
   "outputs": [],
   "source": [
    "import jieba\n",
    "import pandas as pd\n",
    "from tqdm import tqdm\n",
    "import pickle"
   ]
  },
  {
   "cell_type": "code",
   "execution_count": 20,
   "outputs": [
    {
     "name": "stderr",
     "output_type": "stream",
     "text": [
      "Building prefix dict from the default dictionary ...\n",
      "Dumping model to file cache C:\\Users\\MACHEN~1\\AppData\\Local\\Temp\\jieba.cache\n",
      "Loading model cost 1.131 seconds.\n",
      "Prefix dict has been built successfully.\n"
     ]
    }
   ],
   "source": [
    "jieba.load_userdict(\"./训练集实体.txt\")  #加载词典，补充默认词典"
   ],
   "metadata": {
    "collapsed": false,
    "pycharm": {
     "name": "#%%\n"
    }
   }
  },
  {
   "cell_type": "code",
   "execution_count": 28,
   "outputs": [],
   "source": [
    "def save_vocab(sents):\n",
    "    word_list = []\n",
    "    for sent in tqdm(sents):\n",
    "        tmp_word_list = jieba.tokenize(sent)\n",
    "        for word in tmp_word_list:\n",
    "            if word[0] not in word_list:\n",
    "                word_list.append(word[0])\n",
    "    print(len(word_list))\n",
    "    word_list = list(set(word_list))\n",
    "    print(len(word_list))\n",
    "    word2id = {}\n",
    "    for i, word in enumerate(word_list):\n",
    "        word2id[word] = i\n",
    "    word2id['<UNK>'] = len(word2id)\n",
    "    word2id['<PAD>'] = len(word2id)\n",
    "    return word2id\n"
   ],
   "metadata": {
    "collapsed": false,
    "pycharm": {
     "name": "#%%\n"
    }
   }
  },
  {
   "cell_type": "code",
   "execution_count": 35,
   "outputs": [
    {
     "name": "stdout",
     "output_type": "stream",
     "text": [
      "40000\n",
      "89622\n",
      "89622\n"
     ]
    },
    {
     "name": "stderr",
     "output_type": "stream",
     "text": [
      "100%|██████████| 40000/40000 [01:40<00:00, 398.55it/s]\n"
     ]
    }
   ],
   "source": [
    "from ark_nlp.factory.utils.conlleval import get_entity_bio\n",
    "datalist = []\n",
    "with open('./train_data.txt', 'r', encoding='utf-8') as f:\n",
    "    lines = f.readlines()\n",
    "    # lines = lines[:-1]\n",
    "    text = [line.rstrip('\\n') for line in lines]\n",
    "\n",
    "\n",
    "print(len(text))\n",
    "\n",
    "word2id = save_vocab(text)"
   ],
   "metadata": {
    "collapsed": false,
    "pycharm": {
     "name": "#%%\n"
    }
   }
  },
  {
   "cell_type": "code",
   "execution_count": 37,
   "outputs": [],
   "source": [
    "with open(\"./word2id_4w.pkl\", \"wb\") as f:\n",
    "    pickle.dump(word2id, f)"
   ],
   "metadata": {
    "collapsed": false,
    "pycharm": {
     "name": "#%%\n"
    }
   }
  },
  {
   "cell_type": "code",
   "execution_count": 37,
   "outputs": [],
   "source": [],
   "metadata": {
    "collapsed": false,
    "pycharm": {
     "name": "#%%\n"
    }
   }
  },
  {
   "cell_type": "code",
   "execution_count": 38,
   "outputs": [
    {
     "data": {
      "text/plain": "89624"
     },
     "execution_count": 38,
     "metadata": {},
     "output_type": "execute_result"
    }
   ],
   "source": [
    "d = pd.read_pickle('./word2id_4w.pkl')\n",
    "len(d)"
   ],
   "metadata": {
    "collapsed": false,
    "pycharm": {
     "name": "#%%\n"
    }
   }
  },
  {
   "cell_type": "code",
   "execution_count": null,
   "outputs": [],
   "source": [],
   "metadata": {
    "collapsed": false,
    "pycharm": {
     "name": "#%%\n"
    }
   }
  },
  {
   "cell_type": "code",
   "execution_count": null,
   "outputs": [],
   "source": [],
   "metadata": {
    "collapsed": false,
    "pycharm": {
     "name": "#%%\n"
    }
   }
  },
  {
   "cell_type": "code",
   "execution_count": null,
   "outputs": [],
   "source": [
    "\n"
   ],
   "metadata": {
    "collapsed": false,
    "pycharm": {
     "name": "#%%\n"
    }
   }
  }
 ],
 "metadata": {
  "kernelspec": {
   "display_name": "Python 3",
   "language": "python",
   "name": "python3"
  },
  "language_info": {
   "codemirror_mode": {
    "name": "ipython",
    "version": 2
   },
   "file_extension": ".py",
   "mimetype": "text/x-python",
   "name": "python",
   "nbconvert_exporter": "python",
   "pygments_lexer": "ipython2",
   "version": "2.7.6"
  }
 },
 "nbformat": 4,
 "nbformat_minor": 0
}