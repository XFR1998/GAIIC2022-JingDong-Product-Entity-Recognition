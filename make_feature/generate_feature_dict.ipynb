{
 "cells": [
  {
   "cell_type": "code",
   "execution_count": 1,
   "metadata": {
    "collapsed": true
   },
   "outputs": [],
   "source": [
    "\n",
    "import pandas as pd\n",
    "import pickle\n",
    "from extract_word_features import *\n",
    "from tqdm import tqdm"
   ]
  },
  {
   "cell_type": "code",
   "execution_count": 2,
   "outputs": [
    {
     "name": "stderr",
     "output_type": "stream",
     "text": [
      "100%|██████████| 2288790/2288790 [00:01<00:00, 1471135.89it/s]\n"
     ]
    },
    {
     "name": "stdout",
     "output_type": "stream",
     "text": [
      "1040000\n"
     ]
    }
   ],
   "source": [
    "total_septext_list = []\n",
    "total_bio_list = []\n",
    "t = []\n",
    "# with open('../datasets/sample_datasets/train_500.txt', encoding='UTF-8') as f:\n",
    "with open('../datasets/preliminary_contest_datasets/train_data/train.txt', encoding='UTF-8') as f:\n",
    "    line_lists = f.readlines()\n",
    "    septext_list = []\n",
    "    bio_list = []\n",
    "    for line in tqdm(line_lists):\n",
    "\n",
    "        l = line.split(' ')\n",
    "\n",
    "        # 判断是否读完一条数据\n",
    "        if len(l) == 1:\n",
    "            total_septext_list.append(''.join(septext_list))\n",
    "            total_bio_list.append(' '.join(bio_list))\n",
    "            septext_list = []\n",
    "            bio_list = []\n",
    "        # 防止遇到这种情况：'  O'\n",
    "        elif len(l) == 3:\n",
    "            septext_list.append(' ')\n",
    "            bio_list.append(l[2].rstrip('\\n'))\n",
    "        elif len(l) == 2:\n",
    "            septext_list.append(l[0])\n",
    "            bio_list.append(l[1].rstrip('\\n'))\n",
    "        else:\n",
    "            print('异常数据')\n",
    "\n",
    "all_text = total_septext_list\n",
    "\n",
    "\n",
    "with open('../datasets/preliminary_contest_datasets/train_data/unlabeled_train_data.txt', encoding='UTF-8') as f:\n",
    "    line_lists = f.readlines()\n",
    "    line_lists = [i.rstrip('\\n') for i in line_lists]\n",
    "all_text.extend(line_lists)\n",
    "\n",
    "print(len(all_text))"
   ],
   "metadata": {
    "collapsed": false,
    "pycharm": {
     "name": "#%%\n"
    }
   }
  },
  {
   "cell_type": "code",
   "execution_count": 5,
   "outputs": [],
   "source": [],
   "metadata": {
    "collapsed": false,
    "pycharm": {
     "name": "#%%\n"
    }
   }
  },
  {
   "cell_type": "code",
   "execution_count": 3,
   "outputs": [],
   "source": [
    "MAX_LEN = 128\n"
   ],
   "metadata": {
    "collapsed": false,
    "pycharm": {
     "name": "#%%\n"
    }
   }
  },
  {
   "cell_type": "markdown",
   "source": [
    "# <font color='gree'>生成词性词典与词位词典"
   ],
   "metadata": {
    "collapsed": false,
    "pycharm": {
     "name": "#%% md\n"
    }
   }
  },
  {
   "cell_type": "code",
   "execution_count": 4,
   "outputs": [
    {
     "name": "stderr",
     "output_type": "stream",
     "text": [
      "  0%|          | 0/1040000 [00:00<?, ?it/s]Building prefix dict from the default dictionary ...\n",
      "Loading model from cache C:\\Users\\MACHEN~1\\AppData\\Local\\Temp\\jieba.cache\n",
      "Loading model cost 0.548 seconds.\n",
      "Prefix dict has been built successfully.\n",
      "100%|██████████| 1040000/1040000 [25:39<00:00, 675.44it/s] \n"
     ]
    }
   ],
   "source": [
    "word_flag_set = set()\n",
    "word_bound_set = set()\n",
    "for t in tqdm(all_text):\n",
    "    return_word_flags,return_word_bounds = extract_word_flags_bounds(t, MAX_LEN)\n",
    "    word_flag_set.update(return_word_flags)\n",
    "    word_bound_set.update(return_word_bounds)\n",
    "\n"
   ],
   "metadata": {
    "collapsed": false,
    "pycharm": {
     "name": "#%%\n"
    }
   }
  },
  {
   "cell_type": "code",
   "execution_count": 10,
   "outputs": [],
   "source": [
    "word_flag_dict = dict()\n",
    "for v,k in enumerate(word_flag_set):\n",
    "    word_flag_dict[k] = v\n",
    "with open('./feature_dict/word_flag_dict.pkl', 'wb') as f:\n",
    "        pickle.dump(word_flag_dict, f)\n",
    "\n",
    "word_bound_dict = dict()\n",
    "for v,k in enumerate(word_bound_set):\n",
    "    word_bound_dict[k] = v\n",
    "with open('./feature_dict/word_bound_dict.pkl', 'wb') as f:\n",
    "        pickle.dump(word_bound_dict, f)\n"
   ],
   "metadata": {
    "collapsed": false,
    "pycharm": {
     "name": "#%%\n"
    }
   }
  },
  {
   "cell_type": "code",
   "execution_count": 6,
   "outputs": [],
   "source": [
    "# return_word_flags\n",
    "#"
   ],
   "metadata": {
    "collapsed": false,
    "pycharm": {
     "name": "#%%\n"
    }
   }
  },
  {
   "cell_type": "markdown",
   "source": [
    "# <font color='gree'>生成偏旁词典与拼音词典"
   ],
   "metadata": {
    "collapsed": false,
    "pycharm": {
     "name": "#%% md\n"
    }
   }
  },
  {
   "cell_type": "code",
   "execution_count": 7,
   "outputs": [
    {
     "name": "stderr",
     "output_type": "stream",
     "text": [
      "100%|██████████| 1040000/1040000 [2:46:16<00:00, 104.24it/s] \n"
     ]
    }
   ],
   "source": [
    "word_radical_set = set()\n",
    "for t in tqdm(all_text):\n",
    "    return_radical_list = extract_radical(t, MAX_LEN)\n",
    "    word_radical_set.update(return_radical_list)\n",
    "\n",
    "word_radical_set.add('<UNK>')"
   ],
   "metadata": {
    "collapsed": false,
    "pycharm": {
     "name": "#%%\n"
    }
   }
  },
  {
   "cell_type": "code",
   "execution_count": 8,
   "outputs": [
    {
     "name": "stderr",
     "output_type": "stream",
     "text": [
      "100%|██████████| 1040000/1040000 [2:49:52<00:00, 102.04it/s] \n"
     ]
    }
   ],
   "source": [
    "word_pinyin_set = set()\n",
    "for t in tqdm(all_text):\n",
    "    return_pinyin_list = extract_pinyin(t, MAX_LEN)\n",
    "    word_pinyin_set.update(return_pinyin_list)\n",
    "word_pinyin_set.add('<UNK>')\n"
   ],
   "metadata": {
    "collapsed": false,
    "pycharm": {
     "name": "#%%\n"
    }
   }
  },
  {
   "cell_type": "code",
   "execution_count": 9,
   "outputs": [],
   "source": [
    "word_radical_dict = dict()\n",
    "for v,k in enumerate(word_radical_set):\n",
    "    word_radical_dict[k] = v\n",
    "with open('./feature_dict/word_radical_dict.pkl', 'wb') as f:\n",
    "        pickle.dump(word_radical_dict, f)\n",
    "\n",
    "word_pinyin_dict = dict()\n",
    "for v,k in enumerate(word_pinyin_set):\n",
    "    word_pinyin_dict[k] = v\n",
    "with open('./feature_dict/word_pinyin_dict.pkl', 'wb') as f:\n",
    "        pickle.dump(word_pinyin_dict, f)\n",
    "\n",
    "\n"
   ],
   "metadata": {
    "collapsed": false,
    "pycharm": {
     "name": "#%%\n"
    }
   }
  },
  {
   "cell_type": "markdown",
   "source": [
    "# <font color='gree'>保存好4种特征的索引（训练集）\n",
    "\n"
   ],
   "metadata": {
    "collapsed": false,
    "pycharm": {
     "name": "#%% md\n"
    }
   }
  },
  {
   "cell_type": "code",
   "execution_count": 14,
   "outputs": [],
   "source": [
    "word_flag_dict = pd.read_pickle('./feature_dict/word_flag_dict.pkl')\n",
    "word_bound_dict = pd.read_pickle('./feature_dict/word_bound_dict.pkl')\n",
    "word_radical_dict = pd.read_pickle('./feature_dict/word_radical_dict.pkl')\n",
    "word_pinyin_dict = pd.read_pickle('./feature_dict/word_pinyin_dict.pkl')"
   ],
   "metadata": {
    "collapsed": false,
    "pycharm": {
     "name": "#%%\n"
    }
   }
  },
  {
   "cell_type": "code",
   "execution_count": 17,
   "outputs": [
    {
     "data": {
      "text/plain": "(61, 10, 250, 1140)"
     },
     "execution_count": 17,
     "metadata": {},
     "output_type": "execute_result"
    }
   ],
   "source": [
    "len(word_flag_dict),len(word_bound_dict),len(word_radical_dict),len(word_pinyin_dict)"
   ],
   "metadata": {
    "collapsed": false,
    "pycharm": {
     "name": "#%%\n"
    }
   }
  },
  {
   "cell_type": "code",
   "execution_count": 18,
   "outputs": [
    {
     "data": {
      "text/plain": "767"
     },
     "execution_count": 18,
     "metadata": {},
     "output_type": "execute_result"
    }
   ],
   "source": [
    "word_pinyin_dict['<UNK>']"
   ],
   "metadata": {
    "collapsed": false,
    "pycharm": {
     "name": "#%%\n"
    }
   }
  },
  {
   "cell_type": "code",
   "execution_count": null,
   "outputs": [],
   "source": [],
   "metadata": {
    "collapsed": false,
    "pycharm": {
     "name": "#%%\n"
    }
   }
  },
  {
   "cell_type": "code",
   "execution_count": null,
   "outputs": [],
   "source": [],
   "metadata": {
    "collapsed": false,
    "pycharm": {
     "name": "#%%\n"
    }
   }
  },
  {
   "cell_type": "code",
   "execution_count": 6,
   "outputs": [],
   "source": [],
   "metadata": {
    "collapsed": false,
    "pycharm": {
     "name": "#%%\n"
    }
   }
  },
  {
   "cell_type": "code",
   "execution_count": 39,
   "outputs": [],
   "source": [
    "def return_pinyin_ids(x):\n",
    "    return_pinyin_list = extract_pinyin(x, MAX_LEN)\n",
    "    word_pinyin_ids = [word_pinyin_dict[i] if i in word_pinyin_dict.keys() else word_pinyin_dict['<UNK>'] for i in return_pinyin_list]\n",
    "    return word_pinyin_ids"
   ],
   "metadata": {
    "collapsed": false,
    "pycharm": {
     "name": "#%%\n"
    }
   }
  },
  {
   "cell_type": "code",
   "execution_count": 40,
   "outputs": [],
   "source": [
    "i2p = {}\n",
    "for k, v in word_pinyin_dict.items():\n",
    "    i2p[v]=k"
   ],
   "metadata": {
    "collapsed": false,
    "pycharm": {
     "name": "#%%\n"
    }
   }
  },
  {
   "cell_type": "code",
   "execution_count": 42,
   "outputs": [
    {
     "name": "stdout",
     "output_type": "stream",
     "text": [
      "['<CLS>', 'yǒu', 'xiàn', 'bàn', 'gōng', 'jiàn', 'pán', 'qiǎo', 'kè', 'lì', 'àn', 'jiàn', 'shì', 'yòng', 'yú', 'bǐ', 'jì', '<UNK>', '<SEP>', '<PAD>', '<PAD>', '<PAD>', '<PAD>', '<PAD>', '<PAD>', '<PAD>', '<PAD>', '<PAD>', '<PAD>', '<PAD>', '<PAD>', '<PAD>', '<PAD>', '<PAD>', '<PAD>', '<PAD>', '<PAD>', '<PAD>', '<PAD>', '<PAD>', '<PAD>', '<PAD>', '<PAD>', '<PAD>', '<PAD>', '<PAD>', '<PAD>', '<PAD>', '<PAD>', '<PAD>', '<PAD>', '<PAD>', '<PAD>', '<PAD>', '<PAD>', '<PAD>', '<PAD>', '<PAD>', '<PAD>', '<PAD>', '<PAD>', '<PAD>', '<PAD>', '<PAD>', '<PAD>', '<PAD>', '<PAD>', '<PAD>', '<PAD>', '<PAD>', '<PAD>', '<PAD>', '<PAD>', '<PAD>', '<PAD>', '<PAD>', '<PAD>', '<PAD>', '<PAD>', '<PAD>', '<PAD>', '<PAD>', '<PAD>', '<PAD>', '<PAD>', '<PAD>', '<PAD>', '<PAD>', '<PAD>', '<PAD>', '<PAD>', '<PAD>', '<PAD>', '<PAD>', '<PAD>', '<PAD>', '<PAD>', '<PAD>', '<PAD>', '<PAD>', '<PAD>', '<PAD>', '<PAD>', '<PAD>', '<PAD>', '<PAD>', '<PAD>', '<PAD>', '<PAD>', '<PAD>', '<PAD>', '<PAD>', '<PAD>', '<PAD>', '<PAD>', '<PAD>', '<PAD>', '<PAD>', '<PAD>', '<PAD>', '<PAD>', '<PAD>', '<PAD>', '<PAD>', '<PAD>', '<PAD>', '<PAD>', '<PAD>']\n"
     ]
    }
   ],
   "source": [
    "\n",
    "x = '有线办公键盘巧克力按键适用于笔记-'\n",
    "y = return_pinyin_ids(x)"
   ],
   "metadata": {
    "collapsed": false,
    "pycharm": {
     "name": "#%%\n"
    }
   }
  },
  {
   "cell_type": "code",
   "execution_count": 33,
   "outputs": [
    {
     "data": {
      "text/plain": "128"
     },
     "execution_count": 33,
     "metadata": {},
     "output_type": "execute_result"
    }
   ],
   "source": [
    "len([i2p[i] for i in y])"
   ],
   "metadata": {
    "collapsed": false,
    "pycharm": {
     "name": "#%%\n"
    }
   }
  },
  {
   "cell_type": "code",
   "execution_count": 43,
   "outputs": [
    {
     "data": {
      "text/plain": "[932,\n 731,\n 750,\n 1120,\n 118,\n 3,\n 1064,\n 746,\n 953,\n 18,\n 245,\n 3,\n 315,\n 970,\n 1036,\n 1108,\n 81,\n 767,\n 856,\n 1077,\n 1077,\n 1077,\n 1077,\n 1077,\n 1077,\n 1077,\n 1077,\n 1077,\n 1077,\n 1077,\n 1077,\n 1077,\n 1077,\n 1077,\n 1077,\n 1077,\n 1077,\n 1077,\n 1077,\n 1077,\n 1077,\n 1077,\n 1077,\n 1077,\n 1077,\n 1077,\n 1077,\n 1077,\n 1077,\n 1077,\n 1077,\n 1077,\n 1077,\n 1077,\n 1077,\n 1077,\n 1077,\n 1077,\n 1077,\n 1077,\n 1077,\n 1077,\n 1077,\n 1077,\n 1077,\n 1077,\n 1077,\n 1077,\n 1077,\n 1077,\n 1077,\n 1077,\n 1077,\n 1077,\n 1077,\n 1077,\n 1077,\n 1077,\n 1077,\n 1077,\n 1077,\n 1077,\n 1077,\n 1077,\n 1077,\n 1077,\n 1077,\n 1077,\n 1077,\n 1077,\n 1077,\n 1077,\n 1077,\n 1077,\n 1077,\n 1077,\n 1077,\n 1077,\n 1077,\n 1077,\n 1077,\n 1077,\n 1077,\n 1077,\n 1077,\n 1077,\n 1077,\n 1077,\n 1077,\n 1077,\n 1077,\n 1077,\n 1077,\n 1077,\n 1077,\n 1077,\n 1077,\n 1077,\n 1077,\n 1077,\n 1077,\n 1077,\n 1077,\n 1077,\n 1077,\n 1077,\n 1077,\n 1077]"
     },
     "execution_count": 43,
     "metadata": {},
     "output_type": "execute_result"
    }
   ],
   "source": [
    "y\n"
   ],
   "metadata": {
    "collapsed": false,
    "pycharm": {
     "name": "#%%\n"
    }
   }
  },
  {
   "cell_type": "code",
   "execution_count": null,
   "outputs": [],
   "source": [
    "pd = dict()\n",
    "for k,v in word_pinyin_dict.items():\n",
    "    pd[v] = k"
   ],
   "metadata": {
    "collapsed": false,
    "pycharm": {
     "name": "#%%\n"
    }
   }
  },
  {
   "cell_type": "code",
   "execution_count": 23,
   "outputs": [
    {
     "data": {
      "text/plain": "{0: 'bàng',\n 1: 'xué',\n 2: 'nín',\n 3: 'cuò',\n 4: 'qiě',\n 5: 'chū',\n 6: 'dòu',\n 7: 'yǎn',\n 8: 'zào',\n 9: 'yōng',\n 10: 'kù',\n 11: 'xuě',\n 12: 'dàng',\n 13: 'pó',\n 14: 'zú',\n 15: 'yǎng',\n 16: 'kuí',\n 17: 'tián',\n 18: 'yuān',\n 19: 'wán',\n 20: 'xiào',\n 21: 'nǎn',\n 22: 'cā',\n 23: 'lì',\n 24: 'zhěn',\n 25: 'wáng',\n 26: 'yíng',\n 27: 'yī',\n 28: 'lìn',\n 29: 'pēng',\n 30: 'jìng',\n 31: 'dāi',\n 32: 'cǎi',\n 33: 'dǔ',\n 34: 'gēn',\n 35: 'mìng',\n 36: 'liáo',\n 37: 'kuāng',\n 38: 'fēng',\n 39: 'chǔ',\n 40: 'lǐ',\n 41: 'gěi',\n 42: 'fán',\n 43: 'kēng',\n 44: 'è',\n 45: 'āo',\n 46: 'shuǎi',\n 47: 'yō',\n 48: 'sú',\n 49: 'xuǎn',\n 50: 'guǒ',\n 51: 'jǐng',\n 52: 'mài',\n 53: 'tiè',\n 54: 'tiǎn',\n 55: 'shǐ',\n 56: 'xiǎo',\n 57: 'kǔn',\n 58: 'shē',\n 59: 'yán',\n 60: 'dān',\n 61: 'wāng',\n 62: 'cuǐ',\n 63: 'xiáng',\n 64: 'xié',\n 65: 'xiāng',\n 66: 'hūn',\n 67: 'kūn',\n 68: 'níng',\n 69: 'dà',\n 70: 'ruǐ',\n 71: 'yà',\n 72: 'chuàng',\n 73: 'lǎ',\n 74: 'zhēn',\n 75: 'tāng',\n 76: 'xī',\n 77: 'zhān',\n 78: 'tǔ',\n 79: 'xiū',\n 80: 'xuán',\n 81: 'bà',\n 82: 'máng',\n 83: 'shǎn',\n 84: 'rǎn',\n 85: 'bǎo',\n 86: 'lài',\n 87: 'sī',\n 88: 'zhài',\n 89: 'cāng',\n 90: 'ké',\n 91: 'liāo',\n 92: 'miāo',\n 93: 'tiē',\n 94: 'pǐng',\n 95: 'fēi',\n 96: 'rán',\n 97: 'wān',\n 98: 'rén',\n 99: 'mèng',\n 100: 'gōng',\n 101: 'bǔ',\n 102: 'cèng',\n 103: 'nuǎn',\n 104: 'nǎo',\n 105: 'guò',\n 106: 'huài',\n 107: 'diāo',\n 108: 'sōu',\n 109: 'jiāng',\n 110: 'zuǒ',\n 111: 'biǎo',\n 112: 'huáng',\n 113: 'xiè',\n 114: 'dé',\n 115: 'līn',\n 116: 'pí',\n 117: 'xún',\n 118: 'zhuàn',\n 119: 'nǐ',\n 120: 'gù',\n 121: 'cè',\n 122: 'bā',\n 123: 'yōu',\n 124: 'tú',\n 125: 'pèi',\n 126: 'dùn',\n 127: 'yáo',\n 128: 'qín',\n 129: 'shòu',\n 130: 'mǎi',\n 131: 'sǎ',\n 132: 'bǐng',\n 133: 'mā',\n 134: 'hào',\n 135: 'yě',\n 136: 'qián',\n 137: 'yāng',\n 138: 'ruò',\n 139: 'gāi',\n 140: 'sù',\n 141: 'qióng',\n 142: 'duò',\n 143: 'dìng',\n 144: 'mèi',\n 145: 'zhǒng',\n 146: 'nù',\n 147: 'wǒ',\n 148: 'yá',\n 149: 'cún',\n 150: 'tíng',\n 151: 'kǔ',\n 152: 'tōu',\n 153: 'bào',\n 154: 'bàn',\n 155: 'pǐ',\n 156: 'gāo',\n 157: 'shuāng',\n 158: 'tūn',\n 159: 'tòu',\n 160: 'wàn',\n 161: 'juàn',\n 162: 'mán',\n 163: 'xiān',\n 164: 'tuǐ',\n 165: 'qiè',\n 166: 'quán',\n 167: 'huǒ',\n 168: 'èr',\n 169: 'jì',\n 170: 'duō',\n 171: 'rào',\n 172: 'niē',\n 173: 'wèn',\n 174: 'miào',\n 175: 'wǔ',\n 176: 'mō',\n 177: 'pō',\n 178: 'téng',\n 179: 'qīng',\n 180: 'hài',\n 181: 'tāo',\n 182: 'rèn',\n 183: 'chī',\n 184: 'huì',\n 185: 'dǐ',\n 186: 'xù',\n 187: 'tī',\n 188: 'liǔ',\n 189: 'sháo',\n 190: 'kàn',\n 191: 'pá',\n 192: 'xiōng',\n 193: 'liàn',\n 194: 'láng',\n 195: 'chuàn',\n 196: 'liáng',\n 197: 'àng',\n 198: 'yīng',\n 199: 'pàn',\n 200: 'pà',\n 201: 'rì',\n 202: 'cùn',\n 203: 'yǐn',\n 204: 'yǔ',\n 205: 'hǎi',\n 206: 'jiǎ',\n 207: 'bǎ',\n 208: 'hā',\n 209: 'shuò',\n 210: 'jǔ',\n 211: 'tǎn',\n 212: 'wāi',\n 213: 'zé',\n 214: 'yuǎn',\n 215: 'xǐng',\n 216: 'dèng',\n 217: 'kā',\n 218: 'chēng',\n 219: 'xīn',\n 220: 'zhōu',\n 221: 'zāo',\n 222: 'zǎn',\n 223: 'nóng',\n 224: 'qiǎo',\n 225: 'wǎi',\n 226: 'jǐ',\n 227: 'zá',\n 228: 'hēi',\n 229: 'kàng',\n 230: 'shǔ',\n 231: 'shǎ',\n 232: 'UNK',\n 233: 'nì',\n 234: 'guǎi',\n 235: 'zhāng',\n 236: 'diàn',\n 237: 'shuài',\n 238: 'shuǐ',\n 239: 'gài',\n 240: 'bīng',\n 241: 'cí',\n 242: 'cān',\n 243: 'fèi',\n 244: 'chàng',\n 245: 'mén',\n 246: 'yǐ',\n 247: 'dǎi',\n 248: 'qiáng',\n 249: 'hù',\n 250: 'dié',\n 251: 'nào',\n 252: 'pèng',\n 253: 'léng',\n 254: 'dāo',\n 255: 'xiā',\n 256: 'guǐ',\n 257: 'rǎo',\n 258: 'liù',\n 259: 'nà',\n 260: 'tí',\n 261: 'yā',\n 262: 'ròu',\n 263: 'sāi',\n 264: 'miáo',\n 265: 'wà',\n 266: 'hàn',\n 267: 'zhě',\n 268: 'fěn',\n 269: 'mēng',\n 270: 'kuā',\n 271: 'guāi',\n 272: 'gěng',\n 273: 'nán',\n 274: 'fěng',\n 275: 'lòu',\n 276: 'yàn',\n 277: 'mín',\n 278: 'guà',\n 279: 'kuī',\n 280: 'jī',\n 281: 'yóu',\n 282: 'luò',\n 283: 'líng',\n 284: 'shàn',\n 285: 'hǎn',\n 286: 'yān',\n 287: 'wú',\n 288: 'tà',\n 289: 'jū',\n 290: 'qiāo',\n 291: 'guàng',\n 292: 'qìng',\n 293: 'wō',\n 294: 'hóng',\n 295: 'zī',\n 296: 'pāng',\n 297: 'tāi',\n 298: 'shuǎ',\n 299: 'xuàn',\n 300: 'dòng',\n 301: 'luó',\n 302: 'zhǎng',\n 303: 'báo',\n 304: 'yè',\n 305: 'zhuài',\n 306: 'xūn',\n 307: 'tái',\n 308: 'diǎn',\n 309: 'bí',\n 310: 'qū',\n 311: 'chù',\n 312: 'tiāo',\n 313: 'gǎng',\n 314: 'kè',\n 315: 'niè',\n 316: 'ǎo',\n 317: 'chá',\n 318: 'bèng',\n 319: 'pù',\n 320: 'zhǎn',\n 321: 'lóng',\n 322: 'liǎng',\n 323: 'lào',\n 324: 'qié',\n 325: 'céng',\n 326: 'cǎo',\n 327: 'zhōng',\n 328: 'lián',\n 329: 'kǎo',\n 330: 'liàng',\n 331: 'jiǔ',\n 332: 'féi',\n 333: 'dāng',\n 334: 'cù',\n 335: 'guāng',\n 336: 'huā',\n 337: 'jiā',\n 338: 'yǐng',\n 339: 'zǒu',\n 340: 'yào',\n 341: 'biàn',\n 342: 'tuō',\n 343: 'diào',\n 344: 'shēng',\n 345: 'chāi',\n 346: 'shǒu',\n 347: 'bāo',\n 348: 'suàn',\n 349: 'wá',\n 350: 'dǎn',\n 351: 'páng',\n 352: 'cháo',\n 353: 'shà',\n 354: 'yùn',\n 355: 'yuè',\n 356: 'móu',\n 357: 'là',\n 358: 'tuò',\n 359: 'wài',\n 360: 'měi',\n 361: 'luǎn',\n 362: 'chuī',\n 363: 'àn',\n 364: 'běi',\n 365: 'lāo',\n 366: 'chōu',\n 367: 'liǎn',\n 368: 'niàn',\n 369: 'yāo',\n 370: 'kuān',\n 371: 'fà',\n 372: 'fǔ',\n 373: 'jīn',\n 374: 'zhào',\n 375: 'zòng',\n 376: 'xiǎn',\n 377: 'pēi',\n 378: 'zì',\n 379: 'shài',\n 380: 'dōng',\n 381: 'héng',\n 382: 'zhà',\n 383: 'yuàn',\n 384: 'bēn',\n 385: 'tuán',\n 386: 'tiáo',\n 387: 'gǔ',\n 388: 'zā',\n 389: 'tòng',\n 390: 'zhuō',\n 391: 'fáng',\n 392: 'juān',\n 393: 'xíng',\n 394: 'gǎi',\n 395: 'wēng',\n 396: 'zèng',\n 397: 'zuān',\n 398: 'mǒ',\n 399: 'xiàng',\n 400: 'jùn',\n 401: 'niǎn',\n 402: 'zhuān',\n 403: 'róng',\n 404: 'xiá',\n 405: 'wēi',\n 406: 'huǎn',\n 407: 'xià',\n 408: 'zhuǎn',\n 409: 'chǎo',\n 410: 'kuáng',\n 411: 'yù',\n 412: 'tào',\n 413: 'qiàn',\n 414: 'luán',\n 415: 'píng',\n 416: 'gā',\n 417: 'ér',\n 418: 'qǐ',\n 419: 'bó',\n 420: 'huán',\n 421: 'gòu',\n 422: 'hái',\n 423: 'ǎi',\n 424: 'zhuàng',\n 425: 'jí',\n 426: 'mī',\n 427: 'wò',\n 428: 'wěn',\n 429: 'lù',\n 430: 'pì',\n 431: 'mái',\n 432: 'bái',\n 433: 'kē',\n 434: 'ěr',\n 435: 'yǒng',\n 436: 'chā',\n 437: 'shuǎng',\n 438: 'ruǎn',\n 439: 'pào',\n 440: 'bié',\n 441: 'fú',\n 442: 'mì',\n 443: 'fǎng',\n 444: 'káng',\n 445: 'zěn',\n 446: 'sà',\n 447: 'chāo',\n 448: 'róu',\n 449: 'mò',\n 450: 'sàn',\n 451: 'chǎng',\n 452: 'máo',\n 453: 'léi',\n 454: 'yàng',\n 455: 'fū',\n 456: 'kuì',\n 457: 'pàng',\n 458: 'huān',\n 459: 'nī',\n 460: 'jù',\n 461: 'pài',\n 462: 'biāo',\n 463: 'kuò',\n 464: 'guì',\n 465: 'yú',\n 466: 'huàn',\n 467: 'tàn',\n 468: 'piāo',\n 469: 'zhuāng',\n 470: 'hōng',\n 471: 'pǐn',\n 472: 'wǎng',\n 473: 'wǎ',\n 474: 'hěn',\n 475: 'sè',\n 476: 'rě',\n 477: 'fàng',\n 478: 'guǎn',\n 479: 'bo',\n 480: 'tún',\n 481: 'wèi',\n 482: 'dīng',\n 483: 'yǎ',\n 484: 'zhàng',\n 485: 'yì',\n 486: 'qíng',\n 487: 'lěi',\n 488: 'liǎo',\n 489: 'bān',\n 490: 'pǎo',\n 491: 'piáo',\n 492: 'wǎn',\n 493: 'què',\n 494: 'bù',\n 495: 'dǎo',\n 496: 'zōng',\n 497: 'xìn',\n 498: 'fǎn',\n 499: 'zhǐ',\n 500: 'bǎn',\n 501: 'tóu',\n 502: 'áo',\n 503: 'xuē',\n 504: 'duān',\n 505: 'shuí',\n 506: 'shǎng',\n 507: 'zhāo',\n 508: 'ràng',\n 509: 'yún',\n 510: 'bīn',\n 511: 'mǐn',\n 512: 'tā',\n 513: 'lüè',\n 514: 'jiàn',\n 515: 'zāi',\n 516: 'yuán',\n 517: 'huó',\n 518: 'gòng',\n 519: 'wēn',\n 520: 'shuāi',\n 521: 'zhēng',\n 522: 'qǔ',\n 523: 'dǒu',\n 524: 'zhàn',\n 525: 'qiǎng',\n 526: 'chí',\n 527: 'tiào',\n 528: 'lěng',\n 529: 'nǔ',\n 530: 'chāng',\n 531: 'nǎ',\n 532: 'qiǎ',\n 533: 'gǒu',\n 534: 'xiē',\n 535: 'guàn',\n 536: 'gé',\n 537: 'sūn',\n 538: 'làng',\n 539: 'rǒng',\n 540: 'cóng',\n 541: 'qià',\n 542: 'bò',\n 543: 'guǎ',\n 544: 'luǒ',\n 545: 'chún',\n 546: 'chán',\n 547: 'yǎo',\n 548: 'biān',\n 549: 'duàn',\n 550: 'shōu',\n 551: 'tiān',\n 552: 'jìn',\n 553: 'jiù',\n 554: 'dá',\n 555: 'qiú',\n 556: 'xiě',\n 557: 'zǐ',\n 558: 'dú',\n 559: 'jié',\n 560: 'luàn',\n 561: 'rù',\n 562: 'sā',\n 563: 'ǒu',\n 564: 'zhèn',\n 565: 'sōng',\n 566: 'kāng',\n 567: 'zhā',\n 568: 'zān',\n 569: 'dūn',\n 570: 'qì',\n 571: 'kòu',\n 572: 'yǒu',\n 573: 'yìn',\n 574: 'dào',\n 575: 'shèn',\n 576: 'shú',\n 577: 'méng',\n 578: 'xū',\n 579: 'rùn',\n 580: 'gùn',\n 581: 'míng',\n 582: 'chě',\n 583: 'piào',\n 584: 'yòng',\n 585: 'nǚ',\n 586: 'kuǎn',\n 587: 'tuí',\n 588: 'fān',\n 589: 'gàng',\n 590: 'pěng',\n 591: 'zhòng',\n 592: 'hóu',\n 593: 'lán',\n 594: 'lǎng',\n 595: 'shāi',\n 596: 'bēi',\n 597: 'qǐn',\n 598: 'pōu',\n 599: 'qiào',\n 600: 'chuān',\n 601: 'gāng',\n 602: 'shuō',\n 603: 'kǎi',\n 604: 'kě',\n 605: 'shàng',\n 606: 'xí',\n 607: 'nèi',\n 608: 'nǎi',\n 609: 'bǎng',\n 610: 'dù',\n 611: 'chè',\n 612: 'pāi',\n 613: 'jǐn',\n 614: 'chì',\n 615: 'lǔ',\n 616: 'quē',\n 617: 'cuì',\n 618: 'jià',\n 619: 'càn',\n 620: 'gǎn',\n 621: 'qiē',\n 622: 'wù',\n 623: 'zài',\n 624: 'kòng',\n 625: 'jiāo',\n 626: 'lái',\n 627: 'féng',\n 628: 'ō',\n 629: 'lǎn',\n 630: 'tuì',\n 631: 'suí',\n 632: 'cuō',\n 633: 'xú',\n 634: 'gǔn',\n 635: 'zhí',\n 636: 'chéng',\n 637: 'liú',\n 638: 'jú',\n 639: 'zōu',\n 640: 'nú',\n 641: 'pén',\n 642: 'tiě',\n 643: 'guān',\n 644: 'shī',\n 645: 'zǒng',\n 646: 'guài',\n 647: 'shùn',\n 648: 'chèng',\n 649: 'rú',\n 650: 'hé',\n 651: 'náng',\n 652: 'sān',\n 653: 'māo',\n 654: 'quān',\n 655: 'chuí',\n 656: 'pái',\n 657: 'sāo',\n 658: 'rè',\n 659: 'xióng',\n 660: 'shuì',\n 661: 'shě',\n 662: 'guō',\n 663: 'pī',\n 664: 'tū',\n 665: 'chuò',\n 666: 'shū',\n 667: 'xiàn',\n 668: 'hùn',\n 669: 'bèn',\n 670: 'yìng',\n 671: 'miè',\n 672: 'bāng',\n 673: 'huǎng',\n 674: 'huò',\n 675: 'dōu',\n 676: 'pēn',\n 677: 'dài',\n 678: 'wā',\n 679: 'tǒng',\n 680: 'shāo',\n 681: 'duǒ',\n 682: 'kuàng',\n 683: 'ōu',\n 684: 'nài',\n 685: 'jiū',\n 686: 'mǎ',\n 687: 'shén',\n 688: 'qún',\n 689: 'fā',\n 690: 'lǘ',\n 691: 'cī',\n 692: 'zhèng',\n 693: 'liào',\n 694: 'mào',\n 695: 'shào',\n 696: 'suān',\n 697: 'mǐ',\n 698: 'zhuī',\n 699: 'shuān',\n 700: 'cǐ',\n 701: 'xìng',\n 702: 'qī',\n 703: 'tān',\n 704: 'kōng',\n 705: 'chú',\n 706: 'huí',\n 707: 'suǒ',\n 708: 'rěn',\n 709: 'chuáng',\n 710: 'hè',\n 711: 'láo',\n 712: 'tóng',\n 713: 'quàn',\n 714: 'fāng',\n 715: 'zàng',\n 716: 'piē',\n 717: 'sǎn',\n 718: 'bēng',\n 719: 'huāng',\n 720: 'zǎo',\n 721: 'jiǎn',\n 722: 'hén',\n 723: 'wàng',\n 724: 'dǒng',\n 725: 'zhù',\n 726: 'pín',\n 727: 'qiáo',\n 728: 'fá',\n 729: 'cōng',\n 730: 'dū',\n 731: 'zhǒu',\n 732: 'cài',\n 733: 'gū',\n 734: 'qù',\n 735: 'zhuì',\n 736: 'zhī',\n 737: 'jiān',\n 738: 'zhāi',\n 739: 'dí',\n 740: 'háo',\n 741: 'zǎi',\n 742: 'gǒng',\n 743: 'diē',\n 744: 'pīn',\n 745: 'dā',\n 746: 'chūn',\n 747: 'gān',\n 748: 'zhuó',\n 749: 'jiǎo',\n 750: 'shuàn',\n 751: 'bài',\n 752: 'dì',\n 753: 'qí',\n 754: 'chàn',\n 755: 'dǐng',\n 756: 'niū',\n 757: 'pú',\n 758: 'ái',\n 759: 'jiē',\n 760: 'huá',\n 761: 'hāi',\n 762: 'zhǔ',\n 763: 'chòu',\n 764: 'dēng',\n 765: 'huī',\n 766: 'tè',\n 767: 'liū',\n 768: 'hú',\n 769: 'ēn',\n 770: 'guó',\n 771: 'ǹg',\n 772: 'sǎo',\n 773: 'hán',\n 774: 'fǒu',\n 775: 'zǎ',\n 776: 'suō',\n 777: 'sū',\n 778: 'bèi',\n 779: 'cái',\n 780: 'miǎn',\n 781: 'táo',\n 782: 'chèn',\n 783: 'chà',\n 784: 'suì',\n 785: 'nuó',\n 786: 'sǐ',\n 787: 'bei',\n 788: 'cāo',\n 789: 'cāi',\n 790: 'é',\n 791: 'cuàn',\n 792: 'lǚ',\n 793: 'pū',\n 794: 'huái',\n 795: 'sǎi',\n 796: 'qìn',\n 797: 'tǐng',\n 798: 'shè',\n 799: 'cuī',\n 800: 'miǎo',\n 801: 'chuán',\n 802: 'fǎ',\n 803: 'cháng',\n 804: 'gē',\n 805: 'sài',\n 806: 'fèn',\n 807: 'zhěng',\n 808: 'yí',\n 809: 'xì',\n 810: 'lí',\n 811: 'tīng',\n 812: 'fēn',\n 813: 'chǐ',\n 814: 'cáo',\n 815: 'lū',\n 816: 'yīn',\n 817: 'mí',\n 818: 'běn',\n 819: 'háng',\n 820: 'lǐng',\n 821: 'rǔ',\n 822: 'niào',\n 823: 'kāi',\n 824: 'mǔ',\n 825: 'niǎo',\n 826: 'èn',\n 827: 'zuǐ',\n 828: 'tōng',\n 829: 'pīng',\n 830: 'pā',\n 831: 'lóu',\n 832: 'āi',\n 833: 'guǎng',\n 834: 'ruì',\n 835: 'kuài',\n 836: 'niú',\n 837: 'qiǎn',\n 838: 'duī',\n 839: 'gàn',\n 840: 'bǎi',\n 841: 'zhá',\n 842: 'xiù',\n 843: 'cū',\n 844: 'xiǔ',\n 845: 'dàn',\n 846: 'shěn',\n 847: 'chái',\n 848: 'qiān',\n 849: 'lùn',\n 850: 'duì',\n 851: 'zòu',\n 852: 'xīng',\n 853: 'mián',\n 854: 'zhú',\n 855: 'bìn',\n 856: 'wéi',\n 857: 'zàn',\n 858: 'zhóu',\n 859: 'shí',\n 860: 'tuī',\n 861: 'bìng',\n 862: 'ào',\n 863: 'diān',\n 864: 'jiào',\n 865: 'jiàng',\n 866: 'sāng',\n 867: 'bǐ',\n 868: 'péi',\n 869: 'shǎo',\n 870: 'cén',\n 871: 'xǐ',\n 872: 'zū',\n 873: 'kōu',\n 874: 'ài',\n 875: 'shēn',\n 876: 'pān',\n 877: 'zhì',\n 878: 'cūn',\n 879: 'yòu',\n 880: 'sǔn',\n 881: 'ó',\n 882: 'chǎn',\n 883: 'pāo',\n 884: 'gè',\n 885: 'chǒu',\n 886: 'bì',\n 887: 'tù',\n 888: 'shā',\n 889: 'kǒng',\n 890: 'cáng',\n 891: 'jiě',\n 892: 'gōu',\n 893: 'nián',\n 894: 'fàn',\n 895: 'mó',\n 896: 'zéi',\n 897: 'bō',\n 898: 'shāng',\n 899: 'qiāng',\n 900: 'mèn',\n 901: 'zhǎo',\n 902: 'tǐ',\n 903: 'chóng',\n 904: 'cì',\n 905: 'lǜ',\n 906: 'kǒu',\n 907: 'duǎn',\n 908: 'měng',\n 909: 'gào',\n 910: 'yé',\n 911: 'miàn',\n 912: 'zhòu',\n 913: 'fèng',\n 914: 'zhè',\n 915: 'shuā',\n 916: 'zuò',\n 917: 'tiǎo',\n 918: 'xiāo',\n 919: 'huà',\n 920: 'shé',\n 921: 'qiū',\n 922: 'hǒu',\n 923: 'chōng',\n 924: 'shù',\n 925: 'pǔ',\n 926: 'gēng',\n 927: 'gǎo',\n 928: 'zūn',\n 929: 'nuò',\n 930: 'shéng',\n 931: 'dǎng',\n 932: 'tǎo',\n 933: 'chēn',\n 934: 'zhǔn',\n 935: 'xùn',\n 936: 'zhé',\n 937: 'jiǒng',\n 938: 'yǔn',\n 939: 'yuē',\n 940: 'diū',\n 941: 'ná',\n 942: 'niǔ',\n 943: 'duó',\n 944: 'ráng',\n 945: 'néng',\n 946: 'jiè',\n 947: 'jiǎng',\n 948: 'táng',\n 949: 'hòu',\n 950: 'tǎ',\n 951: 'tán',\n 952: 'mǎn',\n 953: 'chén',\n 954: 'lú',\n 955: 'ā',\n 956: 'sòng',\n 957: 'yín',\n 958: 'pán',\n 959: 'xián',\n 960: 'guī',\n 961: 'qǐng',\n 962: 'mǎo',\n 963: 'zhǎi',\n 964: 'chóu',\n 965: 'lǒu',\n 966: 'lǒng',\n 967: 'hǔ',\n 968: 'wū',\n 969: 'tì',\n 970: 'shěng',\n 971: 'jīng',\n 972: 'hún',\n 973: 'mù',\n 974: 'fù',\n 975: 'lǎo',\n 976: 'màn',\n 977: 'qīn',\n 978: 'zhū',\n 979: 'kuà',\n 980: 'nèn',\n 981: 'zhuā',\n 982: 'shān',\n 983: 'ní',\n 984: 'lā',\n 985: 'tuó',\n 986: 'piān',\n 987: 'kū',\n 988: 'shì',\n 989: 'dǎ',\n 990: 'zhái',\n 991: 'biǎn',\n 992: 'guā',\n 993: 'áng',\n 994: 'tǎng',\n 995: 'quǎn',\n 996: 'niáng',\n 997: 'fěi',\n 998: 'lún',\n 999: 'chē',\n ...}"
     },
     "execution_count": 23,
     "metadata": {},
     "output_type": "execute_result"
    }
   ],
   "source": [
    "pd\n"
   ],
   "metadata": {
    "collapsed": false,
    "pycharm": {
     "name": "#%%\n"
    }
   }
  }
 ],
 "metadata": {
  "kernelspec": {
   "display_name": "Python 3",
   "language": "python",
   "name": "python3"
  },
  "language_info": {
   "codemirror_mode": {
    "name": "ipython",
    "version": 2
   },
   "file_extension": ".py",
   "mimetype": "text/x-python",
   "name": "python",
   "nbconvert_exporter": "python",
   "pygments_lexer": "ipython2",
   "version": "2.7.6"
  }
 },
 "nbformat": 4,
 "nbformat_minor": 0
}