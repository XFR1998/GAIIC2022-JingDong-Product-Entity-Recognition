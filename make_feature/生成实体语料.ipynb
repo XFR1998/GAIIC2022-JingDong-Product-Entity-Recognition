{
 "cells": [
  {
   "cell_type": "code",
   "execution_count": 10,
   "metadata": {
    "collapsed": true
   },
   "outputs": [],
   "source": [
    "\n",
    "import jieba\n",
    "import pandas as pd\n",
    "from ark_nlp.factory.utils.conlleval import get_entity_bio\n",
    "from tqdm import tqdm"
   ]
  },
  {
   "cell_type": "code",
   "execution_count": 7,
   "outputs": [
    {
     "name": "stdout",
     "output_type": "stream",
     "text": [
      "40000\n",
      "<class 'pandas.core.frame.DataFrame'>\n",
      "RangeIndex: 40000 entries, 0 to 39999\n",
      "Data columns (total 3 columns):\n",
      " #   Column  Non-Null Count  Dtype \n",
      "---  ------  --------------  ----- \n",
      " 0   text    40000 non-null  object\n",
      " 1   label   40000 non-null  object\n",
      " 2   BIO     40000 non-null  object\n",
      "dtypes: object(3)\n",
      "memory usage: 937.6+ KB\n"
     ]
    }
   ],
   "source": [
    "datalist = []\n",
    "with open('../datasets/preliminary_contest_datasets/train_data/train.txt', 'r', encoding='utf-8') as f:\n",
    "    lines = f.readlines()\n",
    "    lines.append('\\n')\n",
    "\n",
    "    text = []\n",
    "    labels = []\n",
    "    label_set = set()\n",
    "\n",
    "    for line in lines:\n",
    "        if line == '\\n':\n",
    "            text = ''.join(text)\n",
    "            entity_labels = []\n",
    "            for _type, _start_idx, _end_idx in get_entity_bio(labels, id2label=None):\n",
    "                entity_labels.append({\n",
    "                    'start_idx': _start_idx,\n",
    "                    'end_idx': _end_idx,\n",
    "                    'type': _type,\n",
    "                    'entity': text[_start_idx: _end_idx + 1]\n",
    "                })\n",
    "\n",
    "            if text == '':\n",
    "                continue\n",
    "\n",
    "            datalist.append({\n",
    "                'text': text,\n",
    "                'label': entity_labels,\n",
    "                'BIO': labels\n",
    "            })\n",
    "\n",
    "            text = []\n",
    "            labels = []\n",
    "\n",
    "        elif line == '  O\\n':\n",
    "            text.append(' ')\n",
    "            labels.append('O')\n",
    "        else:\n",
    "            line = line.strip('\\n').split()\n",
    "            if len(line) == 1:\n",
    "                term = ' '\n",
    "                label = line[0]\n",
    "            else:\n",
    "                term, label = line\n",
    "            text.append(term)\n",
    "            label_set.add(label.split('-')[-1])\n",
    "            labels.append(label)\n",
    "\n",
    "print(len(datalist))\n",
    "\n",
    "all_data = pd.DataFrame(datalist)\n",
    "all_data.info()"
   ],
   "metadata": {
    "collapsed": false,
    "pycharm": {
     "name": "#%%\n"
    }
   }
  },
  {
   "cell_type": "code",
   "execution_count": 9,
   "outputs": [
    {
     "data": {
      "text/plain": "[{'start_idx': 0, 'end_idx': 1, 'type': '40', 'entity': '手机'},\n {'start_idx': 2, 'end_idx': 4, 'type': '4', 'entity': '三脚架'},\n {'start_idx': 5, 'end_idx': 6, 'type': '14', 'entity': '网红'},\n {'start_idx': 7, 'end_idx': 8, 'type': '5', 'entity': '直播'},\n {'start_idx': 9, 'end_idx': 10, 'type': '4', 'entity': '支架'},\n {'start_idx': 11, 'end_idx': 12, 'type': '7', 'entity': '桌面'},\n {'start_idx': 13, 'end_idx': 15, 'type': '4', 'entity': '自拍杆'},\n {'start_idx': 16, 'end_idx': 17, 'type': '11', 'entity': '蓝牙'},\n {'start_idx': 18, 'end_idx': 19, 'type': '11', 'entity': '遥控'},\n {'start_idx': 20, 'end_idx': 22, 'type': '4', 'entity': '三脚架'},\n {'start_idx': 23, 'end_idx': 24, 'type': '5', 'entity': '摄影'},\n {'start_idx': 25, 'end_idx': 26, 'type': '5', 'entity': '拍摄'},\n {'start_idx': 27, 'end_idx': 28, 'type': '5', 'entity': '拍照'},\n {'start_idx': 29, 'end_idx': 30, 'type': '13', 'entity': '抖音'},\n {'start_idx': 31, 'end_idx': 35, 'type': '4', 'entity': '看电视神器'},\n {'start_idx': 36, 'end_idx': 38, 'type': '4', 'entity': '三角架'},\n {'start_idx': 39, 'end_idx': 40, 'type': '11', 'entity': '便携'},\n {'start_idx': 41, 'end_idx': 42, 'type': '11', 'entity': '伸缩'},\n {'start_idx': 43, 'end_idx': 44, 'type': '8', 'entity': '懒人'},\n {'start_idx': 45, 'end_idx': 46, 'type': '7', 'entity': '户外'},\n {'start_idx': 47, 'end_idx': 49, 'type': '4', 'entity': '支撑架'},\n {'start_idx': 52, 'end_idx': 54, 'type': '16', 'entity': '女神粉'},\n {'start_idx': 58, 'end_idx': 60, 'type': '4', 'entity': '三脚架'},\n {'start_idx': 62, 'end_idx': 63, 'type': '11', 'entity': '蓝牙'},\n {'start_idx': 64, 'end_idx': 65, 'type': '11', 'entity': '遥控'}]"
     },
     "execution_count": 9,
     "metadata": {},
     "output_type": "execute_result"
    }
   ],
   "source": [
    "all_data['label'][0]"
   ],
   "metadata": {
    "collapsed": false,
    "pycharm": {
     "name": "#%%\n"
    }
   }
  },
  {
   "cell_type": "code",
   "execution_count": 20,
   "outputs": [
    {
     "name": "stderr",
     "output_type": "stream",
     "text": [
      "100%|██████████| 40000/40000 [00:00<00:00, 152598.66it/s]\n"
     ]
    },
    {
     "data": {
      "text/plain": "92318"
     },
     "execution_count": 20,
     "metadata": {},
     "output_type": "execute_result"
    }
   ],
   "source": [
    "entity_list = []\n",
    "\n",
    "for i in tqdm(range(len(all_data))):\n",
    "    labels = all_data['label'][i]\n",
    "    for label_dict in labels:\n",
    "        entity_list.append(label_dict['entity'])\n",
    "\n",
    "entity_set = set(entity_list)\n",
    "len(entity_set)"
   ],
   "metadata": {
    "collapsed": false,
    "pycharm": {
     "name": "#%%\n"
    }
   }
  },
  {
   "cell_type": "code",
   "execution_count": 23,
   "outputs": [
    {
     "name": "stderr",
     "output_type": "stream",
     "text": [
      "100%|██████████| 92318/92318 [00:00<00:00, 1102696.75it/s]\n"
     ]
    }
   ],
   "source": [
    "with open('./训练集实体.txt', 'w', encoding='utf-8') as f:\n",
    "    for entity in tqdm(entity_set):\n",
    "        f.write(entity)\n",
    "        f.write('\\n')"
   ],
   "metadata": {
    "collapsed": false,
    "pycharm": {
     "name": "#%%\n"
    }
   }
  },
  {
   "cell_type": "code",
   "execution_count": 22,
   "outputs": [
    {
     "data": {
      "text/plain": "{'P40',\n '孔庙',\n '609',\n '黄+紫',\n 'IN',\n '钢座',\n 'UV印刷',\n '铜芯线材',\n '装订丁',\n 'IPASON',\n '20壳',\n '搅拌机',\n '美术铅画纸',\n '微光',\n 'y97',\n '战神Z7系列',\n '白包装',\n '广告订做',\n '加粗线',\n '三脚架设备',\n 'freebuds2 pro',\n '国语二甲二乙证书',\n '灵耀U',\n '6轴',\n 'R300',\n '动物派对',\n '德贯',\n 'PPT遥控笔',\n '星空灰',\n '搅馅',\n '工具画材',\n '转USB线',\n '高1.8米',\n '甜品盅',\n 'TIT-AL00TL00',\n '软男',\n 'Bizhub',\n 'Gt版',\n '驯良鸽',\n '无白边蓝',\n '加厚PVC',\n '40x60CM',\n '暗影精灵4 5 Pro Air',\n '门牌号码',\n '深灰',\n '挤挤瓶',\n '手持云台',\n '舞蹈班',\n '中央软水机',\n '我好累',\n '小物件',\n '一机三杯',\n '猛世',\n '汉王',\n '图案款式四',\n '自动带线',\n '钢原色',\n '175ZM2',\n 'SM-J5108',\n '黑鲨',\n '易拉',\n '做',\n '35c',\n '双绞',\n 'SX740',\n '我是NO 1',\n '闪亮',\n '烫金logo',\n '40只',\n '5050MT',\n '190g',\n 'Casarte',\n '冰温热',\n 'wifi转有线',\n '鼠C-千',\n '尼家',\n '搪瓷',\n '24英寸',\n '爱宝',\n '千层饼机器',\n '鲁凤来',\n 'IN WIN',\n '艾科仕德',\n '保管柜箱',\n '2322',\n '乐2',\n '教学舞',\n '适合1-2人',\n 'SA-001',\n 'G550',\n '6米/5米',\n '派卡仕',\n '房租收据单',\n '可得优',\n '无线WiFi',\n '男套',\n '双向箭头',\n '多用孔',\n '贝隆',\n '表彰',\n '雪诺',\n '疯马',\n '晴空蓝',\n '64000风量',\n '潮韩版',\n '投影机屏幕',\n '33X33',\n '剃须刀配件',\n '送稿器',\n '山东省',\n '单铃',\n '手游版',\n '红口袋狗',\n 'Galaxy Tab A',\n 'TMP40',\n '点读家教机',\n 'WIFIi版',\n 'SFP光口',\n '机械师PX7-P',\n '不带胶',\n '40/60页',\n 'WS848系列',\n '计重称',\n '遥控',\n 'Galaxy S10',\n 'ZBE9602EF',\n '万向跑步机',\n 'E845',\n '阀体',\n '云网盘',\n 'GR2',\n 'AJ-PX800MC',\n '狂三全身',\n '纸胶',\n '15#',\n '加长',\n '冻柜',\n '文件架框',\n '小电子',\n '胡萝卜',\n 'SA-298',\n '留声机',\n '雨水信箱',\n '摄影台',\n '0.5mm头',\n '餐牌架',\n '荣耀畅玩8Xmax',\n '网格款',\n '31.5*22.8*13.7CM',\n '5支',\n '较大',\n '留言备忘',\n '双撒料',\n '液化气',\n '福到万家',\n '百事可爱',\n 'EH-5B',\n 'mate2',\n '多平台兼容',\n '/苹果',\n 'MB548051805080',\n 'meetsun',\n '三用',\n 'RTX2080TI/2070/2060',\n 'win10版',\n 'PP贴纸',\n '光盘播放器',\n '奶盖机',\n '热汤',\n '艾盐包',\n '电饼铛',\n '云收银',\n '用办',\n '15页',\n '聚财',\n '暖气炉',\n '103',\n '快手',\n '礼薄',\n '开学礼物',\n '墨海砚台',\n 'IH电磁',\n '贴皮',\n '百千元',\n '32K96张',\n '速度版',\n '0.6m',\n '腕包',\n 'V0VOviv0y66',\n '垫条',\n '升降机',\n 'CRG322',\n '军绿',\n '大班台',\n '中转台',\n 'gt2',\n '捷盛',\n '1106',\n '蒸蛋架',\n 'f2.8',\n '特粗纹',\n '复印复合机',\n '蓝红色',\n '五门',\n '娃娃',\n '充电版',\n '气囊支撑架',\n 'apid5',\n '守望先锋DVA',\n '炸水果汁',\n '幸运红',\n '卡本册',\n '铅画纸',\n 'Fibersoon',\n '一直花钱爽',\n '红蜂系列',\n '1020mm宽',\n '4接口',\n 'iPhone xs max/8plus/7/6s',\n 'S7BS',\n 'realmex',\n 'CF-8408',\n '线号机',\n '30/40/60/80插页',\n '极性检测',\n 'HDMIU0.11m',\n '20套',\n '938款',\n '小米Pro',\n '工业型',\n '5口',\n '电热壶',\n '不卡顿',\n 'Mont Marte',\n 'QD转RJ9',\n '绒面',\n '16X',\n 'mini相纸',\n '中立柱',\n '时间规划',\n 'p8lite',\n '两角',\n '三门栓',\n 'THREEPAPAS',\n '马克杯',\n 'U充带电量显示',\n '1档位',\n 'G6年',\n 'x21ia',\n '双胆',\n '阶梯',\n '本子',\n '强排式',\n 'x9/x9i',\n 'TKP08',\n '桌柜',\n '38页',\n '笔套套装',\n '电脑数据传输',\n '质量',\n '仙女本仙',\n '300米箱',\n '美图15',\n '四季和春',\n '单笼屉',\n '嘉宾',\n '教学笔',\n '刮吸脱',\n 'ELE-TL00',\n '苹果手表',\n '巧克力与香草子兰',\n '17岁',\n '灵越15 7591',\n '5ml',\n '圆扣本',\n '162×116×51cm',\n '订200张',\n 'X9Y66',\n '1.2倍变焦',\n 'a3a4',\n '彩管状',\n '60*40*20cm',\n 'ui交互',\n '0.5头',\n '七老常伴',\n '大疆',\n '磁石多电机',\n '加强扩大',\n 'Alvaro',\n 'Sansui',\n 'MIYA',\n '触摸屏幕',\n '大礼包',\n '游戏音乐',\n '电吹风机',\n '8口千兆',\n 'GX8-CR7S1',\n 'Taicn',\n '3个刀头',\n '金属笔杆',\n '笔洗',\n '学前',\n '玛丽画',\n '电饼档',\n '膜片',\n '12笔',\n '菲尼泰',\n '蒂发',\n '手工单',\n '亮粉色',\n '拉丝制作',\n '电影幕布',\n '1300d5d380D',\n '90cm*45cm',\n '9900K',\n 'EH722',\n '强力贴',\n '手账笔',\n 'Alienware17',\n '质量合格证章',\n '桌罩',\n 'vivoV3',\n '漂亮字体',\n 'E5488',\n '战神Z7M-KP5GZ',\n '外屏碎',\n '稿纸本',\n '线圈本',\n '吸扫拖一体机',\n '直径17cm',\n '5V8A',\n '9100F',\n '真人发音',\n '汤炉',\n '索尼XZ2',\n '1寸口',\n '华为p20pro',\n '油画用品',\n '可定制做',\n '11Pro Max',\n 'DTH-W1320',\n '各100张',\n '可定制L',\n '七工匠',\n '磁铁磁扣',\n '1光2电',\n '折叠板',\n '厂室',\n '小曲屏',\n 'XR-T',\n 'UnisCom',\n '珠光黑',\n '笔囊',\n '防丢器',\n '201',\n '烤脚',\n '财务装订管',\n '15卷',\n '华心',\n '意大利式',\n '6Plus/6sPlus',\n '悟饭卫衣',\n '1.0',\n '数据延长线',\n '220',\n '初三',\n '折叠桌',\n '铝壳',\n '200B',\n '创意潮',\n '收录机',\n '共3本',\n '睡眠检测',\n '红白蓝',\n '簪花小楷',\n '脱胶水粉',\n 'Precision 7540',\n '地面线',\n '抄作业本',\n 'SVD5614',\n 'LQ-615KII',\n 'overdian',\n '验钞IED电',\n 'pro壳',\n 'X8Ti Plus',\n '交款',\n '艾肯4nano',\n 'GND1.5',\n '框条',\n '弱粘性',\n '中华',\n '每支21克',\n '纸膜',\n '调皮喵',\n '接自来水',\n '1X2米',\n '出锋为5.2cm',\n '1.3寸',\n '教学一体机',\n '25m',\n '魅卓',\n '机械革命X9Ti-R/X8Ti Plus',\n '浓缩型',\n '二次元',\n '收纳筐',\n '400格',\n '巧派',\n 'UV镜',\n 'LED风扇',\n '亮彩',\n '4孔型',\n '一两',\n '终生免费',\n '蜡笔画册',\n '带芯',\n '网线分线器',\n 'Windows',\n '茨图',\n 'XA20',\n 'GWZ',\n '轻奢蓝',\n '8字',\n '相盒装',\n '6T',\n '海绵粘',\n 'LZL',\n 'I5-1035G1',\n 'MOZUO',\n 'mi9se',\n 'mata30pro',\n '大吊扇',\n '07-62斤',\n '60MM*13Y',\n '纯歌曲',\n 'CREMY',\n '电镀款',\n '爆炒菜',\n '化学试剂',\n '务鑫',\n '黄蜂',\n '东集',\n '碎屏保',\n '34cm',\n '10x4.7cm',\n '墨囊',\n '曹一阁',\n '1-50',\n 'X9/X9S',\n '洗车区',\n '6S6P',\n 'wwxy',\n 'HIFI发烧',\n '高回弹',\n '64g',\n '厚1.5mm',\n '车线款',\n '冰机',\n '墙贴玻璃板',\n '75页',\n 'oppoR11s',\n '400毫米',\n 'FM收音',\n 'pad',\n 'xplay5',\n '手表表带',\n 'i5-9300H',\n 'Diana',\n '垃圾清运',\n '外置声卡套装',\n '红外感应',\n '防摔壳',\n '130DS',\n 'K43-IFI',\n '分层',\n '6年包修',\n '黑加红',\n '半包尖',\n '便贴纸',\n '作文素材',\n '滤水式',\n '天然橡木',\n '单冷',\n '压缩机',\n '艾灸',\n '8.4',\n 'X20 plus',\n '毛帖垫',\n '收银夹',\n 'Z7-KP7S1',\n '3块装',\n '小幅',\n 'xR',\n '温控',\n 'G5D1',\n '130公斤',\n '款单夹',\n '鼠',\n 'S8Plus',\n '新概念S118',\n '净饮一体机',\n 'Q6',\n '多亲',\n '500S/300S/Y40/S41/Flex系列',\n '游戏软件光盘',\n 'T82CT80EXT42',\n '16本',\n '关你屁事',\n '机械硬盘',\n '16内存',\n 'KI512',\n '印泥缸',\n '分类卷子',\n '广告画',\n '实心',\n '笔记本 电脑',\n '药罐',\n '设计制图',\n '修甲',\n '70*100*5mm',\n 'VOYO',\n 'EDDING',\n '浅米黄',\n '超6六米',\n '绿筒装',\n '华为标',\n '款式9',\n '4头',\n '小米8/6/6x',\n '后膜',\n '接听',\n '尼炭笔',\n '琉璃CEN663',\n '穿管线',\n '97*180',\n '176*178cm',\n '20-32㎡',\n 'P20 PRO',\n '有效降温',\n '蒸汽拖把',\n 'RONGWS',\n '21951',\n '60*160',\n '手环手表',\n '重力支架',\n '99426',\n '欠款单 据',\n 'ThinkPad翼E480',\n '电信卡',\n '2018',\n '1T+256',\n 'KP5GC',\n '12/14/16/18寸',\n 'BCH VH',\n 'A8-9600',\n '省气',\n 'mate9',\n '左撇子',\n '4级6级46级',\n '指挥中心',\n '32ml/支装',\n 'poopR11S',\n 'PCH508',\n '魅蓝s6',\n '上下15度',\n '曲奇',\n '彩色铅笔',\n 'SMATE',\n '棕黄色',\n '青蛙',\n 'vivo V11i /Z3i',\n 'type -c',\n '红酒酒柜',\n '忠臣',\n 'XMXM',\n 'Note1',\n '带投币',\n '双核',\n '黑钛',\n 'T530',\n '白金色',\n '日租卡',\n '紫色花',\n '保护模',\n '120张',\n '免烫',\n '小气泡',\n '印刷LOGO文字',\n '环球旅行',\n '35页',\n '90*180',\n '宁波农行',\n '4万首歌曲',\n '带冷藏',\n '收藏夹册',\n '磨砂黑',\n 'CRM-15G-3',\n '75VR',\n '华为p9',\n '证券银行',\n '六t',\n '职位嘉宾主席位牌',\n '全长205mm',\n '细腻微绒款',\n '宽带套餐',\n '年月日期',\n '红米五plus',\n '拉手设计',\n '950XBE',\n '红陶瓷',\n 'GP72MVR',\n '105',\n '看片神器',\n 'KARCHER',\n 'T90 Plus-TB3/TCi3',\n '岗位交接簿',\n '钢票夹',\n '英汉学习机',\n '摆件礼品',\n '订做长度与LOGO',\n '抽水壶',\n '1箱',\n '切姜器',\n '10扣',\n '咖啡胶囊',\n '赢刃 P35X v7',\n '00000#',\n '2020年12月',\n '打版纸',\n '9个',\n '高清机',\n 'Classic-YA',\n 'SHIQSUN',\n '徽章卡贴',\n 'TC5S',\n 'usb加热',\n '超窄边',\n '40w',\n '奢华高档',\n '标签机',\n '宽带网线',\n 'mod-X',\n '不带键位',\n 'Tamron',\n '防驼背',\n '笔记本子',\n '荣誉证书',\n '纸品',\n '散基那',\n 'ipadmini',\n '蜘蛛侠',\n '60*40cm',\n '外包装箱',\n '128张',\n '培训留言',\n 'GT83',\n 'ThinkPad L380',\n '奥烁',\n '探针式',\n '收据类',\n '对射',\n 'Fenix',\n '6 7 8 12寸',\n 'Series4',\n '带屏',\n '64070',\n '伸缩旋转',\n '中山',\n 'L130',\n 'SN2134',\n '5R',\n '碳钎维材质',\n '插座面板',\n 'MD373',\n '2140',\n '送货上楼',\n '3969',\n '试听',\n '混响器',\n '可提供打印',\n '直录',\n '基础加强版',\n '小白盒',\n '带暗斗',\n 'Pro9.7英寸',\n 'HRY-AL00TA',\n '一体唱戏机',\n '大滑鼠垫',\n '套装二',\n '净面',\n '光耦模块',\n 'PDF35C',\n '全彩',\n '7.9',\n '宏碁掠夺者PT715-51',\n '加水',\n '大便杯',\n '电脑纸',\n '鞋木纹',\n 'WAS-AL00',\n '2至6人',\n 'JX-03',\n '画线',\n '360格',\n 'LQ635K730K610K615K',\n '名字牌',\n '生意',\n '柔光系列',\n '长袖',\n '380V50型',\n '5.5公分高',\n '灵越7568',\n '30粒',\n '叶之语',\n 'note9S9',\n '彩墨汁',\n 'HP278a',\n '青春表',\n '配料',\n '橡塑纸',\n '暖壶',\n '欧姆插头',\n '底座型',\n '10吋',\n '76*76mm',\n '体脂秤',\n '1675',\n '纽扣',\n 'M-100',\n '980S',\n 'PV-GS90',\n '整包100个装',\n '17*18CM',\n '保鲜柜',\n 'POZZO',\n '果冻白',\n '手术3',\n '画刷笔',\n '茶水间',\n 'X3 Plus v7',\n '借款借据',\n '宽10厘米',\n '笑',\n 'YT-412',\n '10.5升',\n '共2本',\n '催眠',\n '对焦',\n 'SAIFI',\n '树脂画',\n '防手出汗',\n '监制会计财务凭证',\n '800克',\n '吸毛器',\n '丙烯4件套',\n 'DP405',\n 'M227FDW',\n 'K歌版',\n '赣州',\n 'pg7',\n '粗笔尖',\n '气泡袋',\n '3G4G',\n '英雄永生',\n '无订',\n 'UM-100',\n '48瓦',\n '节水',\n '金贝',\n '日英汉',\n '1ml2ml5ml10ml25ml50ml',\n 'r9sp',\n '纤尘白',\n '15R',\n 'A1876',\n '可爱',\n 'KP7GC',\n 'HDR蓝光',\n '分页栏',\n '酷时代',\n '专辑',\n '圣力欧',\n '贩卖机',\n 'POP海报架',\n '半套皮套',\n 'E7280',\n '手外壳',\n '9USB',\n '带棉网',\n '音王',\n 'iPadmini',\n '播放6小时',\n 'navo4',\n 'DS-2FH3021B-OW',\n '门封条',\n '烙烤饼锅',\n '837ES',\n '铸造级材料',\n '9.6英寸',\n '镂空本',\n '鹏',\n '麦霸',\n '制冰器',\n '纸产品',\n '车棚',\n '卷',\n 'I7512G',\n 'HiFi耳机',\n '银钻灰',\n 'Y913',\n '绒面贴皮',\n '25#',\n 'vivey85',\n '深湖蓝',\n '8G1TB',\n '图立方',\n '长条款',\n '墙面贴',\n '一体指环款',\n '电源柜',\n '带蒸架',\n '出生套',\n '微豹',\n '丝巾',\n '光磁',\n '登记簿',\n '奶油打发',\n '心经抄经本',\n '全套贴膜',\n '9片',\n '沙画纸',\n '赛格',\n '影刃Z6/Z5/Z4',\n '幸运大转盘',\n '前置',\n '小迷',\n '音响全套',\n 'LAOWA',\n '瘦身',\n '智者ID',\n '圣贝尔',\n '自动压',\n '爱格升',\n '多机位',\n '海贼艾斯',\n '8光',\n '文件粉碎机',\n '提纯',\n '听评书',\n 'RV51mini',\n '礼物纸',\n 'BT-8802S',\n '防尘网',\n 'OPPOA59sR9sA37A30F1',\n '印台/盒',\n 'coral10',\n '留兰香绿色',\n '2*3M',\n '腕带款',\n '带电源',\n 'hiron',\n '12mm',\n 'MFC9340CDW',\n '炫彩贴纸',\n '54个装',\n '书衣',\n '手环2',\n '天影',\n '图钉',\n '魅族16s',\n 'iphone Xsmax',\n '宇腾',\n '2号900个',\n '800x500x3mm',\n '烟灶热三件套',\n 'J-16T',\n '吊球',\n '仿瓷白',\n '瑞兽',\n '看树背包女孩',\n 'Coolpix',\n '新蓝牙版',\n 'GP-A45UR',\n '4.0KW',\n '耐高压',\n '单向透视',\n '质量堪比',\n '80卷',\n '80WW',\n '除菌',\n '紫粉',\n 'SF314-54',\n '门窗帘',\n 'M134fn',\n '32gU盘',\n '拍照背景',\n '1-2-3人',\n '兽药',\n 'Z7M-KP7G1/GC',\n '两用挂绳',\n '硅胶全',\n 'FHM21003F',\n 'realme',\n '壁挂件',\n '1级能效',\n '蓄充电机',\n 'SZHY-LINK',\n '电话卡',\n 'COMFIER',\n '橡胶泥',\n '手机壳电池',\n 'siss',\n '专业建筑',\n '浅粉配粉',\n '纯水机',\n '幻彩版',\n '大锅电灶',\n '印尼盒',\n '卡纸本',\n '固定架子',\n 'CMA-UL00',\n '插票叉',\n '爱尚课',\n '软贴膜',\n '驾驶',\n '圆灶釜',\n '翻译笔',\n '小丸子汽车',\n 'sp',\n '墨盘',\n '33x12cm',\n '13.5寸',\n '山区',\n '花',\n '烧烤肉',\n 'VIRB Ultra30',\n '75101',\n 'NP-60 /',\n '1线',\n '卡塔库栗',\n '游匣7559',\n '带夜灯',\n 'XT1575',\n '/通用款',\n '雪糕',\n '恰星',\n '加长延长线',\n '佳禾美',\n '十色装',\n '111822',\n '3米长',\n '宜居云',\n '锦读',\n '咪头',\n '抽奖券',\n '每天进步一点点',\n '个性壳',\n 's10e',\n 'oppe',\n '大摆件',\n '可口可乐',\n '消毒',\n '快餐厅',\n 'DL-518A',\n '加工',\n '黑夜使者亚索',\n '美纹纸胶带',\n '洽利',\n '160*45*22cm',\n 'T58-T1C',\n '粘字',\n '新大陆',\n '个人',\n '舞曲',\n 'surface',\n '电信需开通VOLTE',\n '数数棒',\n '神秘灰',\n '9980HK',\n '哲学历',\n '小收纳盒',\n 'ml',\n '细标',\n '板载PCI',\n '带日历',\n '吉炬',\n '天气预报瓶',\n '电脑壳子',\n '豪华款',\n '加大号',\n '装卷子',\n 'PC收款秤',\n '匙板串',\n 'dcp9020',\n 'brothTZe-431',\n '骐达',\n 'Loosafe',\n '画衣',\n 'EOS 200d二代',\n 'T68',\n '煮火锅',\n ...}"
     },
     "execution_count": 22,
     "metadata": {},
     "output_type": "execute_result"
    }
   ],
   "source": [
    "entity_set"
   ],
   "metadata": {
    "collapsed": false,
    "pycharm": {
     "name": "#%%\n"
    }
   }
  },
  {
   "cell_type": "code",
   "execution_count": 11,
   "outputs": [],
   "source": [],
   "metadata": {
    "collapsed": false,
    "pycharm": {
     "name": "#%%\n"
    }
   }
  },
  {
   "cell_type": "code",
   "execution_count": 11,
   "outputs": [],
   "source": [],
   "metadata": {
    "collapsed": false,
    "pycharm": {
     "name": "#%%\n"
    }
   }
  },
  {
   "cell_type": "code",
   "execution_count": 11,
   "outputs": [],
   "source": [],
   "metadata": {
    "collapsed": false,
    "pycharm": {
     "name": "#%%\n"
    }
   }
  },
  {
   "cell_type": "code",
   "execution_count": 11,
   "outputs": [],
   "source": [],
   "metadata": {
    "collapsed": false,
    "pycharm": {
     "name": "#%%\n"
    }
   }
  },
  {
   "cell_type": "code",
   "execution_count": null,
   "outputs": [],
   "source": [
    "\n"
   ],
   "metadata": {
    "collapsed": false,
    "pycharm": {
     "name": "#%%\n"
    }
   }
  }
 ],
 "metadata": {
  "kernelspec": {
   "display_name": "Python 3",
   "language": "python",
   "name": "python3"
  },
  "language_info": {
   "codemirror_mode": {
    "name": "ipython",
    "version": 2
   },
   "file_extension": ".py",
   "mimetype": "text/x-python",
   "name": "python",
   "nbconvert_exporter": "python",
   "pygments_lexer": "ipython2",
   "version": "2.7.6"
  }
 },
 "nbformat": 4,
 "nbformat_minor": 0
}