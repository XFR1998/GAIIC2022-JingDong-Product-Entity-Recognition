{
 "cells": [
  {
   "cell_type": "code",
   "execution_count": 1,
   "metadata": {
    "collapsed": true
   },
   "outputs": [],
   "source": [
    "import jieba\n",
    "import pandas as pd\n",
    "import pickle"
   ]
  },
  {
   "cell_type": "code",
   "execution_count": 2,
   "outputs": [
    {
     "name": "stderr",
     "output_type": "stream",
     "text": [
      "Building prefix dict from the default dictionary ...\n",
      "Loading model from cache C:\\Users\\MACHEN~1\\AppData\\Local\\Temp\\jieba.cache\n",
      "Loading model cost 0.937 seconds.\n",
      "Prefix dict has been built successfully.\n"
     ]
    }
   ],
   "source": [
    "jieba.load_userdict(\"./训练集实体.txt\")  #加载词典，补充默认词典"
   ],
   "metadata": {
    "collapsed": false,
    "pycharm": {
     "name": "#%%\n"
    }
   }
  },
  {
   "cell_type": "code",
   "execution_count": 3,
   "outputs": [
    {
     "data": {
      "text/plain": "['手机',\n '三脚架',\n '网红直播',\n '支架',\n '桌面',\n '自拍杆',\n '蓝牙遥控',\n '三脚架',\n '摄影',\n '拍摄',\n '拍照',\n '抖音',\n '看电视神器',\n '三角架',\n '便携',\n '伸缩',\n '懒人',\n '户外',\n '支撑架',\n ' ',\n '【',\n '女神粉',\n '】',\n '自带三脚架',\n '+',\n '蓝牙遥控']"
     },
     "execution_count": 3,
     "metadata": {},
     "output_type": "execute_result"
    }
   ],
   "source": [
    "x = '手机三脚架网红直播支架桌面自拍杆蓝牙遥控三脚架摄影拍摄拍照抖音看电视神器三角架便携伸缩懒人户外支撑架 【女神粉】自带三脚架+蓝牙遥控'\n",
    "y = jieba.lcut(x)\n",
    "y"
   ],
   "metadata": {
    "collapsed": false,
    "pycharm": {
     "name": "#%%\n"
    }
   }
  },
  {
   "cell_type": "code",
   "execution_count": 4,
   "outputs": [
    {
     "name": "stdout",
     "output_type": "stream",
     "text": [
      "('手机', 0, 2)\n",
      "('三脚架', 2, 5)\n",
      "('网红直播', 5, 9)\n",
      "('支架', 9, 11)\n",
      "('桌面', 11, 13)\n",
      "('自拍杆', 13, 16)\n",
      "('蓝牙遥控', 16, 20)\n",
      "('三脚架', 20, 23)\n",
      "('摄影', 23, 25)\n",
      "('拍摄', 25, 27)\n",
      "('拍照', 27, 29)\n",
      "('抖音', 29, 31)\n",
      "('看电视神器', 31, 36)\n",
      "('三角架', 36, 39)\n",
      "('便携', 39, 41)\n",
      "('伸缩', 41, 43)\n",
      "('懒人', 43, 45)\n",
      "('户外', 45, 47)\n",
      "('支撑架', 47, 50)\n",
      "(' ', 50, 51)\n",
      "('【', 51, 52)\n",
      "('女神粉', 52, 55)\n",
      "('】', 55, 56)\n",
      "('自带三脚架', 56, 61)\n",
      "('+', 61, 62)\n",
      "('蓝牙遥控', 62, 66)\n"
     ]
    }
   ],
   "source": [
    "y = jieba.tokenize(x)\n",
    "for i in y:\n",
    "    print(i)\n",
    "\n"
   ],
   "metadata": {
    "collapsed": false,
    "pycharm": {
     "name": "#%%\n"
    }
   }
  },
  {
   "cell_type": "code",
   "execution_count": 3,
   "outputs": [],
   "source": [
    "word2id = {1:1, 0:0}"
   ],
   "metadata": {
    "collapsed": false,
    "pycharm": {
     "name": "#%%\n"
    }
   }
  },
  {
   "cell_type": "code",
   "execution_count": 8,
   "outputs": [],
   "source": [
    "with open(\"./word2id.pkl\", \"wb\") as f:\n",
    "    pickle.dump(word2id, f)\n",
    "\n",
    "\n"
   ],
   "metadata": {
    "collapsed": false,
    "pycharm": {
     "name": "#%%\n"
    }
   }
  },
  {
   "cell_type": "code",
   "execution_count": 9,
   "outputs": [
    {
     "data": {
      "text/plain": "{1: 1, 0: 0}"
     },
     "execution_count": 9,
     "metadata": {},
     "output_type": "execute_result"
    }
   ],
   "source": [
    "d = pd.read_pickle('./word2id.pkl')\n",
    "d"
   ],
   "metadata": {
    "collapsed": false,
    "pycharm": {
     "name": "#%%\n"
    }
   }
  },
  {
   "cell_type": "code",
   "execution_count": 8,
   "outputs": [],
   "source": [],
   "metadata": {
    "collapsed": false,
    "pycharm": {
     "name": "#%%\n"
    }
   }
  },
  {
   "cell_type": "code",
   "execution_count": 8,
   "outputs": [],
   "source": [],
   "metadata": {
    "collapsed": false,
    "pycharm": {
     "name": "#%%\n"
    }
   }
  },
  {
   "cell_type": "code",
   "execution_count": 8,
   "outputs": [],
   "source": [],
   "metadata": {
    "collapsed": false,
    "pycharm": {
     "name": "#%%\n"
    }
   }
  },
  {
   "cell_type": "code",
   "execution_count": 8,
   "outputs": [],
   "source": [],
   "metadata": {
    "collapsed": false,
    "pycharm": {
     "name": "#%%\n"
    }
   }
  },
  {
   "cell_type": "code",
   "execution_count": null,
   "outputs": [],
   "source": [
    "\n"
   ],
   "metadata": {
    "collapsed": false,
    "pycharm": {
     "name": "#%%\n"
    }
   }
  }
 ],
 "metadata": {
  "kernelspec": {
   "display_name": "Python 3",
   "language": "python",
   "name": "python3"
  },
  "language_info": {
   "codemirror_mode": {
    "name": "ipython",
    "version": 2
   },
   "file_extension": ".py",
   "mimetype": "text/x-python",
   "name": "python",
   "nbconvert_exporter": "python",
   "pygments_lexer": "ipython2",
   "version": "2.7.6"
  }
 },
 "nbformat": 4,
 "nbformat_minor": 0
}