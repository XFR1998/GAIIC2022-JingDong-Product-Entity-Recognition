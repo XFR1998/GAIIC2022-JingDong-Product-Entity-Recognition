{
 "cells": [
  {
   "cell_type": "code",
   "execution_count": 1,
   "metadata": {
    "collapsed": true
   },
   "outputs": [],
   "source": [
    "import os\n",
    "from tqdm import tqdm"
   ]
  },
  {
   "cell_type": "code",
   "execution_count": 4,
   "outputs": [
    {
     "data": {
      "text/plain": "['aug_0_train.txt',\n 'aug_10_train.txt',\n 'aug_11_train.txt',\n 'aug_12_train.txt',\n 'aug_13_train.txt',\n 'aug_14_train.txt',\n 'aug_1_train.txt',\n 'aug_2_train.txt',\n 'aug_3_train.txt',\n 'aug_4_train.txt',\n 'aug_5_train.txt',\n 'aug_6_train.txt',\n 'aug_7_train.txt',\n 'aug_8_train.txt',\n 'aug_9_train.txt']"
     },
     "execution_count": 4,
     "metadata": {},
     "output_type": "execute_result"
    }
   ],
   "source": [
    "data_path = './按聚类结果增强的数据/'\n",
    "data_list = os.listdir(data_path)\n",
    "data_list"
   ],
   "metadata": {
    "collapsed": false,
    "pycharm": {
     "name": "#%%\n"
    }
   }
  },
  {
   "cell_type": "code",
   "execution_count": 5,
   "outputs": [
    {
     "name": "stderr",
     "output_type": "stream",
     "text": [
      "100%|██████████| 15/15 [00:00<00:00, 84.08it/s]\n"
     ]
    }
   ],
   "source": [
    "with open('./aug_train_9_SR.txt','w', encoding='utf-8') as f1:\n",
    "    for file in tqdm(data_list):\n",
    "        with open(data_path+file, 'r', encoding='utf-8') as f2:\n",
    "            content = f2.read()\n",
    "            f1.write(content)"
   ],
   "metadata": {
    "collapsed": false,
    "pycharm": {
     "name": "#%%\n"
    }
   }
  },
  {
   "cell_type": "code",
   "execution_count": 14,
   "outputs": [],
   "source": [],
   "metadata": {
    "collapsed": false,
    "pycharm": {
     "name": "#%%\n"
    }
   }
  },
  {
   "cell_type": "code",
   "execution_count": 5,
   "outputs": [],
   "source": [
    "# total_septext_list = []\n",
    "# total_bio_list = []\n",
    "# t = []\n",
    "# # with open('../datasets/sample_datasets/train_500.txt', encoding='UTF-8') as f:\n",
    "# with open('./aug_train_9.txt', encoding='UTF-8') as f:\n",
    "#     line_lists = f.readlines()\n",
    "#     septext_list = []\n",
    "#     bio_list = []\n",
    "#     for line in tqdm(line_lists):\n",
    "#\n",
    "#         l = line.split(' ')\n",
    "#\n",
    "#         # 判断是否读完一条数据\n",
    "#         if len(l) == 1:\n",
    "#             total_septext_list.append(''.join(septext_list))\n",
    "#             total_bio_list.append(' '.join(bio_list))\n",
    "#             septext_list = []\n",
    "#             bio_list = []\n",
    "#         # 防止遇到这种情况：'  O'\n",
    "#         elif len(l) == 3:\n",
    "#             septext_list.append(' ')\n",
    "#             bio_list.append(l[2].rstrip('\\n'))\n",
    "#         elif len(l) == 2:\n",
    "#             septext_list.append(l[0])\n",
    "#             bio_list.append(l[1].rstrip('\\n'))\n",
    "#         else:\n",
    "#             print('异常数据')\n",
    "#"
   ],
   "metadata": {
    "collapsed": false,
    "pycharm": {
     "name": "#%%\n"
    }
   }
  },
  {
   "cell_type": "code",
   "execution_count": 6,
   "outputs": [],
   "source": [
    "# len(total_septext_list),len(total_bio_list)\n"
   ],
   "metadata": {
    "collapsed": false,
    "pycharm": {
     "name": "#%%\n"
    }
   }
  },
  {
   "cell_type": "code",
   "execution_count": 6,
   "outputs": [],
   "source": [],
   "metadata": {
    "collapsed": false,
    "pycharm": {
     "name": "#%%\n"
    }
   }
  },
  {
   "cell_type": "code",
   "execution_count": 6,
   "outputs": [],
   "source": [
    "\n"
   ],
   "metadata": {
    "collapsed": false,
    "pycharm": {
     "name": "#%%\n"
    }
   }
  }
 ],
 "metadata": {
  "kernelspec": {
   "display_name": "Python 3",
   "language": "python",
   "name": "python3"
  },
  "language_info": {
   "codemirror_mode": {
    "name": "ipython",
    "version": 2
   },
   "file_extension": ".py",
   "mimetype": "text/x-python",
   "name": "python",
   "nbconvert_exporter": "python",
   "pygments_lexer": "ipython2",
   "version": "2.7.6"
  }
 },
 "nbformat": 4,
 "nbformat_minor": 0
}