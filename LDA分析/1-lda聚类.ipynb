{
 "cells": [
  {
   "cell_type": "code",
   "execution_count": 1,
   "metadata": {
    "collapsed": true
   },
   "outputs": [],
   "source": [
    "import pandas as pd\n",
    "from tqdm import tqdm\n",
    "import os"
   ]
  },
  {
   "cell_type": "code",
   "execution_count": 2,
   "outputs": [
    {
     "name": "stdout",
     "output_type": "stream",
     "text": [
      "<class 'pandas.core.frame.DataFrame'>\n",
      "RangeIndex: 36000 entries, 0 to 35999\n",
      "Data columns (total 5 columns):\n",
      " #   Column             Non-Null Count  Dtype  \n",
      "---  ------             --------------  -----  \n",
      " 0   text               36000 non-null  object \n",
      " 1   bio_label          36000 non-null  object \n",
      " 2   Dominant_Topic     36000 non-null  int64  \n",
      " 3   Perc_Contribution  36000 non-null  float64\n",
      " 4   Topic_Keywords     36000 non-null  object \n",
      "dtypes: float64(1), int64(1), object(3)\n",
      "memory usage: 1.4+ MB\n"
     ]
    }
   ],
   "source": [
    "df = pd.read_excel('./train_9.xlsx')\n",
    "df.info()"
   ],
   "metadata": {
    "collapsed": false,
    "pycharm": {
     "name": "#%%\n"
    }
   }
  },
  {
   "cell_type": "code",
   "execution_count": 3,
   "outputs": [],
   "source": [
    "\n",
    "group = df.groupby('Dominant_Topic')"
   ],
   "metadata": {
    "collapsed": false,
    "pycharm": {
     "name": "#%%\n"
    }
   }
  },
  {
   "cell_type": "code",
   "execution_count": 3,
   "outputs": [],
   "source": [],
   "metadata": {
    "collapsed": false,
    "pycharm": {
     "name": "#%%\n"
    }
   }
  },
  {
   "cell_type": "code",
   "execution_count": 4,
   "outputs": [],
   "source": [
    "gp_index = list(df['Dominant_Topic'].value_counts().index)"
   ],
   "metadata": {
    "collapsed": false,
    "pycharm": {
     "name": "#%%\n"
    }
   }
  },
  {
   "cell_type": "code",
   "execution_count": 8,
   "outputs": [
    {
     "data": {
      "text/plain": "                                                    text  \\\n14     OLOEY适用于适配飞利浦电动牙刷头替换通用HX3210A/3230A/3220A/3240...   \n36                电脑椅家用办公椅网布座椅可躺转椅老板椅午休椅游戏电竞椅子白框绿网+双枕尼龙脚   \n63     物业公司规章制度牌挂图宣传画保安主管岗位职责贴画OWY01-07 PP贴纸覆膜50X70cm...   \n83                    外卖好评价卡可爱小纸条感谢信定制创意手写现卡饿了么美团 彩色现货04   \n140                  六品堂 新文房四宝毛笔字帖水写布毛笔套装仿宣纸神奇书法套装 初学者套装   \n...                                                  ...   \n35918  可调节桌面支架桌上放手机平板电脑用的托架台面架子办公室桌子iPad防颈椎苹果iPhone11...   \n35926  JDHDL 适用于apple watch4苹果手表4代 编织表带运动腕带iwatch1/2/...   \n35963  iwatch5保护套apple watch2外壳运动苹果手表3代44mm边框40防摔s4 香...   \n35964  奥迪Q5/Q5L/A6L/A3/A4L/Q3车载手机架出风口汽车内用导航支架专用 A6L[1...   \n35969  欧式时尚羽毛落地台灯结婚庆北欧装饰灯具卧室床头创意客厅小灯饰 超密款-银色灯杆-白色灯罩 按钮开关   \n\n                                               bio_label  Dominant_Topic  \\\n14     B-1 I-1 I-1 I-1 I-1 O O O O O B-37 I-37 I-37 B...               8   \n36     B-4 I-4 I-4 B-7 I-7 B-4 I-4 I-4 B-12 I-12 B-4 ...               8   \n63     B-7 I-7 I-7 I-7 B-4 I-4 I-4 I-4 I-4 B-4 I-4 B-...               8   \n83     B-4 I-4 I-4 I-4 I-4 I-4 B-14 I-14 B-4 I-4 I-4 ...               8   \n140    B-1 I-1 I-1 O O B-4 I-4 I-4 I-4 B-4 I-4 B-4 I-...               8   \n...                                                  ...             ...   \n35918  B-11 I-11 I-11 B-7 I-7 B-4 I-4 B-7 I-7 B-40 I-...               8   \n35926  B-1 I-1 I-1 I-1 I-1 O O O O B-38 I-38 I-38 I-3...               8   \n35963  B-38 I-38 I-38 I-38 I-38 I-38 I-38 B-4 I-4 I-4...               8   \n35964  B-37 I-37 B-38 I-38 I-38 I-38 I-38 I-38 I-38 I...               8   \n35969  B-14 I-14 B-14 I-14 B-13 I-13 B-13 I-13 B-4 I-...               8   \n\n       Perc_Contribution                  Topic_Keywords  \n14                0.9674   , /, 【, 支架, 】, 通用, (, 3, ), *  \n36                0.7870   , /, 【, 支架, 】, 通用, (, 3, ), *  \n63                0.8646   , /, 【, 支架, 】, 通用, (, 3, ), *  \n83                0.3756   , /, 【, 支架, 】, 通用, (, 3, ), *  \n140               0.2892   , /, 【, 支架, 】, 通用, (, 3, ), *  \n...                  ...                             ...  \n35918             0.4756   , /, 【, 支架, 】, 通用, (, 3, ), *  \n35926             0.6726   , /, 【, 支架, 】, 通用, (, 3, ), *  \n35963             0.5413   , /, 【, 支架, 】, 通用, (, 3, ), *  \n35964             0.7948   , /, 【, 支架, 】, 通用, (, 3, ), *  \n35969             0.3423   , /, 【, 支架, 】, 通用, (, 3, ), *  \n\n[1638 rows x 5 columns]",
      "text/html": "<div>\n<style scoped>\n    .dataframe tbody tr th:only-of-type {\n        vertical-align: middle;\n    }\n\n    .dataframe tbody tr th {\n        vertical-align: top;\n    }\n\n    .dataframe thead th {\n        text-align: right;\n    }\n</style>\n<table border=\"1\" class=\"dataframe\">\n  <thead>\n    <tr style=\"text-align: right;\">\n      <th></th>\n      <th>text</th>\n      <th>bio_label</th>\n      <th>Dominant_Topic</th>\n      <th>Perc_Contribution</th>\n      <th>Topic_Keywords</th>\n    </tr>\n  </thead>\n  <tbody>\n    <tr>\n      <th>14</th>\n      <td>OLOEY适用于适配飞利浦电动牙刷头替换通用HX3210A/3230A/3220A/3240...</td>\n      <td>B-1 I-1 I-1 I-1 I-1 O O O O O B-37 I-37 I-37 B...</td>\n      <td>8</td>\n      <td>0.9674</td>\n      <td>, /, 【, 支架, 】, 通用, (, 3, ), *</td>\n    </tr>\n    <tr>\n      <th>36</th>\n      <td>电脑椅家用办公椅网布座椅可躺转椅老板椅午休椅游戏电竞椅子白框绿网+双枕尼龙脚</td>\n      <td>B-4 I-4 I-4 B-7 I-7 B-4 I-4 I-4 B-12 I-12 B-4 ...</td>\n      <td>8</td>\n      <td>0.7870</td>\n      <td>, /, 【, 支架, 】, 通用, (, 3, ), *</td>\n    </tr>\n    <tr>\n      <th>63</th>\n      <td>物业公司规章制度牌挂图宣传画保安主管岗位职责贴画OWY01-07 PP贴纸覆膜50X70cm...</td>\n      <td>B-7 I-7 I-7 I-7 B-4 I-4 I-4 I-4 I-4 B-4 I-4 B-...</td>\n      <td>8</td>\n      <td>0.8646</td>\n      <td>, /, 【, 支架, 】, 通用, (, 3, ), *</td>\n    </tr>\n    <tr>\n      <th>83</th>\n      <td>外卖好评价卡可爱小纸条感谢信定制创意手写现卡饿了么美团 彩色现货04</td>\n      <td>B-4 I-4 I-4 I-4 I-4 I-4 B-14 I-14 B-4 I-4 I-4 ...</td>\n      <td>8</td>\n      <td>0.3756</td>\n      <td>, /, 【, 支架, 】, 通用, (, 3, ), *</td>\n    </tr>\n    <tr>\n      <th>140</th>\n      <td>六品堂 新文房四宝毛笔字帖水写布毛笔套装仿宣纸神奇书法套装 初学者套装</td>\n      <td>B-1 I-1 I-1 O O B-4 I-4 I-4 I-4 B-4 I-4 B-4 I-...</td>\n      <td>8</td>\n      <td>0.2892</td>\n      <td>, /, 【, 支架, 】, 通用, (, 3, ), *</td>\n    </tr>\n    <tr>\n      <th>...</th>\n      <td>...</td>\n      <td>...</td>\n      <td>...</td>\n      <td>...</td>\n      <td>...</td>\n    </tr>\n    <tr>\n      <th>35918</th>\n      <td>可调节桌面支架桌上放手机平板电脑用的托架台面架子办公室桌子iPad防颈椎苹果iPhone11...</td>\n      <td>B-11 I-11 I-11 B-7 I-7 B-4 I-4 B-7 I-7 B-40 I-...</td>\n      <td>8</td>\n      <td>0.4756</td>\n      <td>, /, 【, 支架, 】, 通用, (, 3, ), *</td>\n    </tr>\n    <tr>\n      <th>35926</th>\n      <td>JDHDL 适用于apple watch4苹果手表4代 编织表带运动腕带iwatch1/2/...</td>\n      <td>B-1 I-1 I-1 I-1 I-1 O O O O B-38 I-38 I-38 I-3...</td>\n      <td>8</td>\n      <td>0.6726</td>\n      <td>, /, 【, 支架, 】, 通用, (, 3, ), *</td>\n    </tr>\n    <tr>\n      <th>35963</th>\n      <td>iwatch5保护套apple watch2外壳运动苹果手表3代44mm边框40防摔s4 香...</td>\n      <td>B-38 I-38 I-38 I-38 I-38 I-38 I-38 B-4 I-4 I-4...</td>\n      <td>8</td>\n      <td>0.5413</td>\n      <td>, /, 【, 支架, 】, 通用, (, 3, ), *</td>\n    </tr>\n    <tr>\n      <th>35964</th>\n      <td>奥迪Q5/Q5L/A6L/A3/A4L/Q3车载手机架出风口汽车内用导航支架专用 A6L[1...</td>\n      <td>B-37 I-37 B-38 I-38 I-38 I-38 I-38 I-38 I-38 I...</td>\n      <td>8</td>\n      <td>0.7948</td>\n      <td>, /, 【, 支架, 】, 通用, (, 3, ), *</td>\n    </tr>\n    <tr>\n      <th>35969</th>\n      <td>欧式时尚羽毛落地台灯结婚庆北欧装饰灯具卧室床头创意客厅小灯饰 超密款-银色灯杆-白色灯罩 按钮开关</td>\n      <td>B-14 I-14 B-14 I-14 B-13 I-13 B-13 I-13 B-4 I-...</td>\n      <td>8</td>\n      <td>0.3423</td>\n      <td>, /, 【, 支架, 】, 通用, (, 3, ), *</td>\n    </tr>\n  </tbody>\n</table>\n<p>1638 rows × 5 columns</p>\n</div>"
     },
     "execution_count": 8,
     "metadata": {},
     "output_type": "execute_result"
    }
   ],
   "source": [],
   "metadata": {
    "collapsed": false,
    "pycharm": {
     "name": "#%%\n"
    }
   }
  },
  {
   "cell_type": "code",
   "execution_count": 5,
   "outputs": [
    {
     "name": "stderr",
     "output_type": "stream",
     "text": [
      "100%|██████████| 20/20 [00:04<00:00,  4.95it/s]\n"
     ]
    }
   ],
   "source": [
    "save_path = './聚类切分结果excel/'\n",
    "for i in tqdm(gp_index):\n",
    "    new_df = group.get_group(i)\n",
    "    new_df.index = list(range(len(new_df)))\n",
    "    new_df.to_excel(save_path+'{}_train.xlsx'.format(i), index=False)\n"
   ],
   "metadata": {
    "collapsed": false,
    "pycharm": {
     "name": "#%%\n"
    }
   }
  },
  {
   "cell_type": "code",
   "execution_count": 6,
   "outputs": [],
   "source": [
    "data_path = './聚类切分结果excel/'\n",
    "save_path = './聚类切分结果txt(训练集格式)/'"
   ],
   "metadata": {
    "collapsed": false,
    "pycharm": {
     "name": "#%%\n"
    }
   }
  },
  {
   "cell_type": "code",
   "execution_count": 7,
   "outputs": [
    {
     "data": {
      "text/plain": "['0_train.xlsx',\n '10_train.xlsx',\n '11_train.xlsx',\n '12_train.xlsx',\n '13_train.xlsx',\n '14_train.xlsx',\n '15_train.xlsx',\n '16_train.xlsx',\n '17_train.xlsx',\n '18_train.xlsx',\n '19_train.xlsx',\n '1_train.xlsx',\n '2_train.xlsx',\n '3_train.xlsx',\n '4_train.xlsx',\n '5_train.xlsx',\n '6_train.xlsx',\n '7_train.xlsx',\n '8_train.xlsx',\n '9_train.xlsx']"
     },
     "execution_count": 7,
     "metadata": {},
     "output_type": "execute_result"
    }
   ],
   "source": [
    "file_list = os.listdir(data_path)\n",
    "file_list"
   ],
   "metadata": {
    "collapsed": false,
    "pycharm": {
     "name": "#%%\n"
    }
   }
  },
  {
   "cell_type": "code",
   "execution_count": 8,
   "outputs": [
    {
     "name": "stderr",
     "output_type": "stream",
     "text": [
      "100%|██████████| 20/20 [00:04<00:00,  4.06it/s]\n"
     ]
    }
   ],
   "source": [
    "for file in tqdm(file_list):\n",
    "    temp_df = pd.read_excel(data_path+file)\n",
    "    with open(save_path+file.replace('xlsx', 'txt'), 'w', encoding='utf-8') as f:\n",
    "        for i in range(len(temp_df)):\n",
    "            t = list(temp_df['text'][i])\n",
    "            b = temp_df['bio_label'][i].split(' ')\n",
    "            assert len(t)==len(b)\n",
    "            for j in range(len(t)):\n",
    "                f.write(t[j])\n",
    "                f.write(' ')\n",
    "                f.write(b[j])\n",
    "                f.write('\\n')\n",
    "            f.write('\\n')"
   ],
   "metadata": {
    "collapsed": false,
    "pycharm": {
     "name": "#%%\n"
    }
   }
  },
  {
   "cell_type": "code",
   "execution_count": 1,
   "outputs": [],
   "source": [],
   "metadata": {
    "collapsed": false,
    "pycharm": {
     "name": "#%%\n"
    }
   }
  },
  {
   "cell_type": "code",
   "execution_count": 24,
   "outputs": [
    {
     "data": {
      "text/plain": "'0_train.txt'"
     },
     "execution_count": 24,
     "metadata": {},
     "output_type": "execute_result"
    }
   ],
   "source": [],
   "metadata": {
    "collapsed": false,
    "pycharm": {
     "name": "#%%\n"
    }
   }
  },
  {
   "cell_type": "code",
   "execution_count": 1,
   "outputs": [],
   "source": [],
   "metadata": {
    "collapsed": false,
    "pycharm": {
     "name": "#%%\n"
    }
   }
  },
  {
   "cell_type": "code",
   "execution_count": 1,
   "outputs": [],
   "source": [],
   "metadata": {
    "collapsed": false,
    "pycharm": {
     "name": "#%%\n"
    }
   }
  },
  {
   "cell_type": "code",
   "execution_count": null,
   "outputs": [],
   "source": [
    "\n"
   ],
   "metadata": {
    "collapsed": false,
    "pycharm": {
     "name": "#%%\n"
    }
   }
  }
 ],
 "metadata": {
  "kernelspec": {
   "display_name": "Python 3",
   "language": "python",
   "name": "python3"
  },
  "language_info": {
   "codemirror_mode": {
    "name": "ipython",
    "version": 2
   },
   "file_extension": ".py",
   "mimetype": "text/x-python",
   "name": "python",
   "nbconvert_exporter": "python",
   "pygments_lexer": "ipython2",
   "version": "2.7.6"
  }
 },
 "nbformat": 4,
 "nbformat_minor": 0
}