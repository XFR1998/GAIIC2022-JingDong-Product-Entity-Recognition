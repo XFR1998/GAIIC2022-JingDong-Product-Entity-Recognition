{
 "cells": [
  {
   "cell_type": "code",
   "execution_count": 1,
   "metadata": {
    "collapsed": true
   },
   "outputs": [],
   "source": [
    "import pandas as pd\n",
    "from tqdm import tqdm"
   ]
  },
  {
   "cell_type": "code",
   "execution_count": 4,
   "outputs": [
    {
     "name": "stderr",
     "output_type": "stream",
     "text": [
      "100%|██████████| 4743884/4743884 [00:03<00:00, 1446651.86it/s]\n"
     ]
    }
   ],
   "source": [
    "total_septext_list = []\n",
    "total_bio_list = []\n",
    "t = []\n",
    "# with open('../datasets/sample_datasets/train_500.txt', encoding='UTF-8') as f:\n",
    "with open('./train+testb_pseudo+unlabeld3w.txt', encoding='UTF-8') as f:\n",
    "    line_lists = f.readlines()\n",
    "    septext_list = []\n",
    "    bio_list = []\n",
    "    for line in tqdm(line_lists):\n",
    "\n",
    "        l = line.split(' ')\n",
    "\n",
    "        # 判断是否读完一条数据\n",
    "        if len(l) == 1:\n",
    "            total_septext_list.append(''.join(septext_list))\n",
    "            total_bio_list.append(' '.join(bio_list))\n",
    "            septext_list = []\n",
    "            bio_list = []\n",
    "        # 防止遇到这种情况：'  O'\n",
    "        elif len(l) == 3:\n",
    "            septext_list.append(' ')\n",
    "            bio_list.append(l[2].rstrip('\\n'))\n",
    "        elif len(l) == 2:\n",
    "            septext_list.append(l[0])\n",
    "            bio_list.append(l[1].rstrip('\\n'))\n",
    "        else:\n",
    "            print('异常数据')"
   ],
   "metadata": {
    "collapsed": false,
    "pycharm": {
     "name": "#%%\n"
    }
   }
  },
  {
   "cell_type": "code",
   "execution_count": 5,
   "outputs": [
    {
     "data": {
      "text/plain": "(80564, 80564)"
     },
     "execution_count": 5,
     "metadata": {},
     "output_type": "execute_result"
    }
   ],
   "source": [
    "len(total_septext_list),len(total_bio_list)\n"
   ],
   "metadata": {
    "collapsed": false,
    "pycharm": {
     "name": "#%%\n"
    }
   }
  },
  {
   "cell_type": "code",
   "execution_count": 4,
   "outputs": [],
   "source": [
    "df = pd.DataFrame({'text': total_septext_list,\n",
    "                   'bio_label': total_bio_list})\n",
    "df.to_excel('../datasets/sample_datasets/train_500.xlsx', index=False)"
   ],
   "metadata": {
    "collapsed": false,
    "pycharm": {
     "name": "#%%\n"
    }
   }
  },
  {
   "cell_type": "code",
   "execution_count": 4,
   "outputs": [],
   "source": [
    "\n"
   ],
   "metadata": {
    "collapsed": false,
    "pycharm": {
     "name": "#%%\n"
    }
   }
  }
 ],
 "metadata": {
  "kernelspec": {
   "display_name": "Python 3",
   "language": "python",
   "name": "python3"
  },
  "language_info": {
   "codemirror_mode": {
    "name": "ipython",
    "version": 2
   },
   "file_extension": ".py",
   "mimetype": "text/x-python",
   "name": "python",
   "nbconvert_exporter": "python",
   "pygments_lexer": "ipython2",
   "version": "2.7.6"
  }
 },
 "nbformat": 4,
 "nbformat_minor": 0
}