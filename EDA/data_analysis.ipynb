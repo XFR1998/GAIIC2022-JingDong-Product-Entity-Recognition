{
 "cells": [
  {
   "cell_type": "markdown",
   "source": [
    "\n",
    "# bi-lstm+crf，使用pytorch-crf库实现crf，可cuda加速。\n",
    "\n",
    "<font color='blac'>数据集说明：\n",
    "实体说明：\n",
    "\n",
    "<font color='blac'>&emsp;实体共有 52 种类型，均已经过脱敏处理；其中“O”为非实体。\n",
    "标签中“B“代表一个实体的开始，”I“代表一个实体的中间或者结尾。”-“后的数字代号表示该\n",
    "字符的实体类型。\n",
    "### <font color='red'> !!!注意 label是1-54，但27， 45两个标签是没有的。<font color='blac'>\n",
    "\n",
    "&emsp;值得注意的是实体不仅仅与实体词有关，而且与当前标题所售卖商品有关。举例说明，一\n",
    "个售卖产品为手机壳的商品标题中出现的“iPhone13”与售卖产品为手机的商品标题中出现的\n",
    "“iPhone13”为不同的实体标签。\n",
    "\n",
    "#%"
   ],
   "metadata": {
    "collapsed": false
   }
  },
  {
   "cell_type": "code",
   "execution_count": 1,
   "outputs": [],
   "source": [
    "import pandas as pd\n",
    "import numpy as np\n",
    "import matplotlib.pyplot as plt\n",
    "import os"
   ],
   "metadata": {
    "collapsed": false,
    "pycharm": {
     "name": "#%%\n"
    }
   }
  },
  {
   "cell_type": "code",
   "execution_count": 2,
   "outputs": [],
   "source": [
    "from sklearn.model_selection import train_test_split\n",
    "data = pd.read_excel('../datasets/sample_datasets/train_500.xlsx')\n",
    "train_data, valid_data = train_test_split(data, test_size = 0.2, random_state=42)\n",
    "train_data.index = list(range(len(train_data)))\n",
    "valid_data.index = list(range(len(valid_data)))\n",
    "# test_data = pd.read_csv('./test_public.csv')"
   ],
   "metadata": {
    "collapsed": false,
    "pycharm": {
     "name": "#%%\n"
    }
   }
  },
  {
   "cell_type": "markdown",
   "source": [
    "## 看看文本长度的分布，以便确定padding的长度"
   ],
   "metadata": {
    "collapsed": false,
    "pycharm": {
     "name": "#%% md\n"
    }
   }
  },
  {
   "cell_type": "code",
   "execution_count": 4,
   "outputs": [
    {
     "data": {
      "text/plain": "count    500.000000\nmean      55.476000\nstd       13.212515\nmin        8.000000\n25%       45.000000\n50%       55.000000\n75%       64.000000\nmax       94.000000\nName: text, dtype: float64"
     },
     "execution_count": 4,
     "metadata": {},
     "output_type": "execute_result"
    }
   ],
   "source": [
    "len_text = data['text'].apply(lambda x: len(list(x)))\n",
    "len_text.describe()\n"
   ],
   "metadata": {
    "collapsed": false,
    "pycharm": {
     "name": "#%%\n"
    }
   }
  },
  {
   "cell_type": "code",
   "execution_count": 6,
   "outputs": [
    {
     "data": {
      "text/plain": "['手',\n '机',\n '三',\n '脚',\n '架',\n '网',\n '红',\n '直',\n '播',\n '支',\n '架',\n '桌',\n '面',\n '自',\n '拍',\n '杆',\n '蓝',\n '牙',\n '遥',\n '控',\n '三',\n '脚',\n '架',\n '摄',\n '影',\n '拍',\n '摄',\n '拍',\n '照',\n '抖',\n '音',\n '看',\n '电',\n '视',\n '神',\n '器',\n '三',\n '角',\n '架',\n '便',\n '携',\n '伸',\n '缩',\n '懒',\n '人',\n '户',\n '外',\n '支',\n '撑',\n '架',\n ' ',\n '【',\n '女',\n '神',\n '粉',\n '】',\n '自',\n '带',\n '三',\n '脚',\n '架',\n '+',\n '蓝',\n '牙',\n '遥',\n '控']"
     },
     "execution_count": 6,
     "metadata": {},
     "output_type": "execute_result"
    }
   ],
   "source": [
    "x = data['text'][0]\n",
    "list(x)"
   ],
   "metadata": {
    "collapsed": false,
    "pycharm": {
     "name": "#%%\n"
    }
   }
  },
  {
   "cell_type": "code",
   "execution_count": 12,
   "outputs": [
    {
     "data": {
      "text/plain": "['我', '爱', ' ', '你']"
     },
     "execution_count": 12,
     "metadata": {},
     "output_type": "execute_result"
    }
   ],
   "source": [],
   "metadata": {
    "collapsed": false,
    "pycharm": {
     "name": "#%%\n"
    }
   }
  },
  {
   "cell_type": "code",
   "execution_count": 0,
   "outputs": [],
   "source": [],
   "metadata": {
    "collapsed": false,
    "pycharm": {
     "name": "#%%\n"
    }
   }
  },
  {
   "cell_type": "code",
   "execution_count": 0,
   "outputs": [],
   "source": [],
   "metadata": {
    "collapsed": false,
    "pycharm": {
     "name": "#%%\n"
    }
   }
  },
  {
   "cell_type": "code",
   "execution_count": 0,
   "outputs": [],
   "source": [],
   "metadata": {
    "collapsed": false,
    "pycharm": {
     "name": "#%%\n"
    }
   }
  },
  {
   "cell_type": "code",
   "execution_count": 0,
   "outputs": [],
   "source": [],
   "metadata": {
    "collapsed": false,
    "pycharm": {
     "name": "#%%\n"
    }
   }
  },
  {
   "cell_type": "code",
   "execution_count": 0,
   "outputs": [],
   "source": [],
   "metadata": {
    "collapsed": false,
    "pycharm": {
     "name": "#%%\n"
    }
   }
  },
  {
   "cell_type": "code",
   "execution_count": 0,
   "outputs": [],
   "source": [],
   "metadata": {
    "collapsed": false,
    "pycharm": {
     "name": "#%%\n"
    }
   }
  },
  {
   "cell_type": "code",
   "execution_count": 0,
   "outputs": [],
   "source": [],
   "metadata": {
    "collapsed": false,
    "pycharm": {
     "name": "#%%\n"
    }
   }
  },
  {
   "cell_type": "code",
   "execution_count": 0,
   "outputs": [],
   "source": [],
   "metadata": {
    "collapsed": false,
    "pycharm": {
     "name": "#%%\n"
    }
   }
  },
  {
   "cell_type": "code",
   "execution_count": 0,
   "outputs": [],
   "source": [],
   "metadata": {
    "collapsed": false,
    "pycharm": {
     "name": "#%%\n"
    }
   }
  },
  {
   "cell_type": "code",
   "execution_count": null,
   "outputs": [],
   "source": [
    "\n"
   ],
   "metadata": {
    "collapsed": false,
    "pycharm": {
     "name": "#%%\n"
    }
   }
  }
 ],
 "metadata": {
  "kernelspec": {
   "display_name": "Python 3",
   "language": "python",
   "name": "python3"
  },
  "language_info": {
   "codemirror_mode": {
    "name": "ipython",
    "version": 2
   },
   "file_extension": ".py",
   "mimetype": "text/x-python",
   "name": "python",
   "nbconvert_exporter": "python",
   "pygments_lexer": "ipython2",
   "version": "2.7.6"
  }
 },
 "nbformat": 4,
 "nbformat_minor": 0
}