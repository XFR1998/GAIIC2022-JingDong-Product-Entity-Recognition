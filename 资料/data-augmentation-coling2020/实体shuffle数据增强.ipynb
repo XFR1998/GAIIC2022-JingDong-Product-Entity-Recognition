{
 "cells": [
  {
   "cell_type": "code",
   "execution_count": 3,
   "metadata": {
    "collapsed": true
   },
   "outputs": [
    {
     "name": "stderr",
     "output_type": "stream",
     "text": [
      "F:\\ML_ENVS\\lib\\site-packages\\scipy\\sparse\\sparsetools.py:21: DeprecationWarning: `scipy.sparse.sparsetools` is deprecated!\n",
      "scipy.sparse.sparsetools is a private module for scipy.sparse, and should not be used.\n",
      "  _deprecated()\n"
     ]
    }
   ],
   "source": [
    "from datetime import datetime\n",
    "import time\n",
    "import os\n",
    "from tqdm import tqdm\n",
    "import pandas as pd\n",
    "import re\n",
    "import matplotlib.pyplot as plt\n",
    "\n",
    "import numpy as np\n",
    "import nltk\n",
    "from nltk.corpus import stopwords\n",
    "import pyLDAvis.gensim_models\n",
    "import jieba.posseg as jp,jieba\n",
    "from gensim.models.coherencemodel import CoherenceModel\n",
    "from gensim.models.ldamodel import LdaModel\n",
    "from gensim.corpora.dictionary import Dictionary\n",
    "import warnings\n",
    "warnings.filterwarnings(\"ignore\")\n",
    "import matplotlib.pyplot as plt\n",
    "import matplotlib\n",
    "import jieba\n",
    "from ark_nlp.factory.utils.conlleval import get_entity_bio\n",
    "from tqdm import tqdm"
   ]
  },
  {
   "cell_type": "code",
   "execution_count": 67,
   "outputs": [
    {
     "name": "stdout",
     "output_type": "stream",
     "text": [
      "36000\n",
      "<class 'pandas.core.frame.DataFrame'>\n",
      "RangeIndex: 36000 entries, 0 to 35999\n",
      "Data columns (total 3 columns):\n",
      " #   Column  Non-Null Count  Dtype \n",
      "---  ------  --------------  ----- \n",
      " 0   text    36000 non-null  object\n",
      " 1   label   36000 non-null  object\n",
      " 2   BIO     36000 non-null  object\n",
      "dtypes: object(3)\n",
      "memory usage: 843.9+ KB\n"
     ]
    },
    {
     "data": {
      "text/plain": "                                                text  \\\n0  先科（SAST）F1无线连接室外防水音柱壁挂式大功率定压公共广播喇叭校园播音系统户外防水音箱...   \n1   水粉颜料白色大瓶300ml浅灰蓝柠檬黄美术生色彩颜料灌装hys 淡黄 单瓶(满2瓶送调色刀1把)   \n2        全颂 智能手表腕带蓝牙防丢失学生跑步遥控拍照计步运动手环 智能手环黑色 智能手机通用款   \n\n                                               label  \\\n0  [{'start_idx': 0, 'end_idx': 1, 'type': '1', '...   \n1  [{'start_idx': 0, 'end_idx': 1, 'type': '4', '...   \n2  [{'start_idx': 0, 'end_idx': 1, 'type': '1', '...   \n\n                                                 BIO  \n0  [B-1, I-1, O, B-1, I-1, I-1, I-1, O, B-3, I-3,...  \n1  [B-4, I-4, B-4, I-4, B-16, I-16, B-13, I-13, B...  \n2  [B-1, I-1, O, B-11, I-11, B-4, I-4, B-4, I-4, ...  ",
      "text/html": "<div>\n<style scoped>\n    .dataframe tbody tr th:only-of-type {\n        vertical-align: middle;\n    }\n\n    .dataframe tbody tr th {\n        vertical-align: top;\n    }\n\n    .dataframe thead th {\n        text-align: right;\n    }\n</style>\n<table border=\"1\" class=\"dataframe\">\n  <thead>\n    <tr style=\"text-align: right;\">\n      <th></th>\n      <th>text</th>\n      <th>label</th>\n      <th>BIO</th>\n    </tr>\n  </thead>\n  <tbody>\n    <tr>\n      <th>0</th>\n      <td>先科（SAST）F1无线连接室外防水音柱壁挂式大功率定压公共广播喇叭校园播音系统户外防水音箱...</td>\n      <td>[{'start_idx': 0, 'end_idx': 1, 'type': '1', '...</td>\n      <td>[B-1, I-1, O, B-1, I-1, I-1, I-1, O, B-3, I-3,...</td>\n    </tr>\n    <tr>\n      <th>1</th>\n      <td>水粉颜料白色大瓶300ml浅灰蓝柠檬黄美术生色彩颜料灌装hys 淡黄 单瓶(满2瓶送调色刀1把)</td>\n      <td>[{'start_idx': 0, 'end_idx': 1, 'type': '4', '...</td>\n      <td>[B-4, I-4, B-4, I-4, B-16, I-16, B-13, I-13, B...</td>\n    </tr>\n    <tr>\n      <th>2</th>\n      <td>全颂 智能手表腕带蓝牙防丢失学生跑步遥控拍照计步运动手环 智能手环黑色 智能手机通用款</td>\n      <td>[{'start_idx': 0, 'end_idx': 1, 'type': '1', '...</td>\n      <td>[B-1, I-1, O, B-11, I-11, B-4, I-4, B-4, I-4, ...</td>\n    </tr>\n  </tbody>\n</table>\n</div>"
     },
     "execution_count": 67,
     "metadata": {},
     "output_type": "execute_result"
    }
   ],
   "source": [
    "datalist = []\n",
    "with open('./data/train_9.txt', 'r', encoding='utf-8') as f:\n",
    "    lines = f.readlines()\n",
    "    lines.append('\\n')\n",
    "\n",
    "    text = []\n",
    "    labels = []\n",
    "    label_set = set()\n",
    "\n",
    "    for line in lines:\n",
    "        if line == '\\n':\n",
    "            text = ''.join(text)\n",
    "            entity_labels = []\n",
    "            for _type, _start_idx, _end_idx in get_entity_bio(labels, id2label=None):\n",
    "                entity_labels.append({\n",
    "                    'start_idx': _start_idx,\n",
    "                    'end_idx': _end_idx,\n",
    "                    'type': _type,\n",
    "                    'entity': text[_start_idx: _end_idx + 1]\n",
    "                })\n",
    "\n",
    "            if text == '':\n",
    "                continue\n",
    "\n",
    "            datalist.append({\n",
    "                'text': text,\n",
    "                'label': entity_labels,\n",
    "                'BIO': labels\n",
    "            })\n",
    "\n",
    "            text = []\n",
    "            labels = []\n",
    "\n",
    "        elif line == '  O\\n':\n",
    "            text.append(' ')\n",
    "            labels.append('O')\n",
    "        else:\n",
    "            line = line.strip('\\n').split()\n",
    "            if len(line) == 1:\n",
    "                term = ' '\n",
    "                label = line[0]\n",
    "            else:\n",
    "                term, label = line\n",
    "            text.append(term)\n",
    "            label_set.add(label.split('-')[-1])\n",
    "            labels.append(label)\n",
    "\n",
    "\n",
    "print(len(datalist))\n",
    "df = pd.DataFrame(datalist)\n",
    "df.info()\n",
    "df.head(3)"
   ],
   "metadata": {
    "collapsed": false,
    "pycharm": {
     "name": "#%%\n"
    }
   }
  },
  {
   "cell_type": "code",
   "execution_count": 13,
   "outputs": [
    {
     "data": {
      "text/plain": "[{'start_idx': 0, 'end_idx': 1, 'type': '1', 'entity': '先科'},\n {'start_idx': 3, 'end_idx': 6, 'type': '1', 'entity': 'SAST'},\n {'start_idx': 8, 'end_idx': 9, 'type': '3', 'entity': 'F1'},\n {'start_idx': 10, 'end_idx': 13, 'type': '11', 'entity': '无线连接'},\n {'start_idx': 14, 'end_idx': 15, 'type': '7', 'entity': '室外'},\n {'start_idx': 16, 'end_idx': 17, 'type': '11', 'entity': '防水'},\n {'start_idx': 18, 'end_idx': 19, 'type': '4', 'entity': '音柱'},\n {'start_idx': 20, 'end_idx': 22, 'type': '13', 'entity': '壁挂式'},\n {'start_idx': 23, 'end_idx': 25, 'type': '11', 'entity': '大功率'},\n {'start_idx': 26, 'end_idx': 27, 'type': '11', 'entity': '定压'},\n {'start_idx': 28, 'end_idx': 33, 'type': '4', 'entity': '公共广播喇叭'},\n {'start_idx': 34, 'end_idx': 35, 'type': '7', 'entity': '校园'},\n {'start_idx': 36, 'end_idx': 39, 'type': '4', 'entity': '播音系统'},\n {'start_idx': 40, 'end_idx': 41, 'type': '7', 'entity': '户外'},\n {'start_idx': 42, 'end_idx': 43, 'type': '11', 'entity': '防水'},\n {'start_idx': 44, 'end_idx': 45, 'type': '4', 'entity': '音箱'},\n {'start_idx': 46, 'end_idx': 47, 'type': '11', 'entity': '蓝牙'},\n {'start_idx': 48, 'end_idx': 49, 'type': '11', 'entity': '无线'},\n {'start_idx': 50, 'end_idx': 51, 'type': '11', 'entity': '防水'},\n {'start_idx': 52, 'end_idx': 53, 'type': '4', 'entity': '音柱'},\n {'start_idx': 55, 'end_idx': 58, 'type': '18', 'entity': '一拖二十'}]"
     },
     "execution_count": 13,
     "metadata": {},
     "output_type": "execute_result"
    }
   ],
   "source": [
    "df['label'][0]"
   ],
   "metadata": {
    "collapsed": false,
    "pycharm": {
     "name": "#%%\n"
    }
   }
  },
  {
   "cell_type": "code",
   "execution_count": null,
   "outputs": [],
   "source": [],
   "metadata": {
    "collapsed": false,
    "pycharm": {
     "name": "#%%\n"
    }
   }
  },
  {
   "cell_type": "code",
   "execution_count": 16,
   "outputs": [
    {
     "name": "stdout",
     "output_type": "stream",
     "text": [
      "['B-1', 'I-1', 'O', 'B-1', 'I-1', 'I-1', 'I-1', 'O', 'B-3', 'I-3', 'B-11', 'I-11', 'I-11', 'I-11', 'B-7', 'I-7', 'B-11', 'I-11', 'B-4', 'I-4', 'B-13', 'I-13', 'I-13', 'B-11', 'I-11', 'I-11', 'B-11', 'I-11', 'B-4', 'I-4', 'I-4', 'I-4', 'I-4', 'I-4', 'B-7', 'I-7', 'B-4', 'I-4', 'I-4', 'I-4', 'B-7', 'I-7', 'B-11', 'I-11', 'B-4', 'I-4', 'B-11', 'I-11', 'B-11', 'I-11', 'B-11', 'I-11', 'B-4', 'I-4', 'O', 'B-18', 'I-18', 'I-18', 'I-18', 'O']\n"
     ]
    }
   ],
   "source": [
    "x = df['BIO'][0]\n",
    "print(x)"
   ],
   "metadata": {
    "collapsed": false,
    "pycharm": {
     "name": "#%%\n"
    }
   }
  },
  {
   "cell_type": "code",
   "execution_count": 18,
   "outputs": [
    {
     "data": {
      "text/plain": "2"
     },
     "execution_count": 18,
     "metadata": {},
     "output_type": "execute_result"
    }
   ],
   "source": [
    "x.index('O')"
   ],
   "metadata": {
    "collapsed": false,
    "pycharm": {
     "name": "#%%\n"
    }
   }
  },
  {
   "cell_type": "code",
   "execution_count": 63,
   "outputs": [],
   "source": [
    "import random\n",
    "def shuffle_entity(text, label, bio):\n",
    "    len_text = len(text)\n",
    "    # entity = list(text)\n",
    "    entity = []\n",
    "    entity_type = []\n",
    "\n",
    "    for idx, info in enumerate(label):\n",
    "        if idx ==0:\n",
    "            tail=-1\n",
    "            if info['start_idx']==0:\n",
    "                if info['start_idx']-tail==1:\n",
    "                    # for i in range(info['start_idx'], info['end_idx']+1):\n",
    "                    entity.append(info['entity'])\n",
    "                    entity_type.append(info['type'])\n",
    "                elif info['start_idx']-tail>1:\n",
    "                    for i in range(tail+1, info['start_idx']):\n",
    "                        entity.append(text[i])\n",
    "                        entity_type.append('O')\n",
    "                    entity.append(info['entity'])\n",
    "                    entity_type.append(info['type'])\n",
    "\n",
    "            else:\n",
    "                for i in range(0, info['start_idx']):\n",
    "                    entity.append(text[i])\n",
    "                    entity_type.append('O')\n",
    "\n",
    "                entity.append(info['entity'])\n",
    "                entity_type.append(info['type'])\n",
    "\n",
    "        else:\n",
    "            if info['start_idx']-tail==1:\n",
    "                # for i in range(info['start_idx'], info['end_idx']+1):\n",
    "                entity.append(info['entity'])\n",
    "                entity_type.append(info['type'])\n",
    "            elif info['start_idx']-tail>1:\n",
    "                for i in range(tail+1, info['start_idx']):\n",
    "                    entity.append(text[i])\n",
    "                    entity_type.append('O')\n",
    "\n",
    "                entity.append(info['entity'])\n",
    "                entity_type.append(info['type'])\n",
    "\n",
    "\n",
    "        tail = info['end_idx']\n",
    "\n",
    "\n",
    "    if info['end_idx']<len_text-1:\n",
    "        for i in range(info['end_idx']+1, len_text):\n",
    "            entity.append(text[i])\n",
    "            entity_type.append('O')\n",
    "\n",
    "    # print(entity)\n",
    "    # print(entity_type)\n",
    "\n",
    "\n",
    "    real_entity = []\n",
    "    non_entity_idx = []\n",
    "    for i,b in enumerate(entity_type):\n",
    "        if b!='O':\n",
    "            real_entity.append((entity[i], entity_type[i]))\n",
    "        elif b=='O':\n",
    "            non_entity_idx.append(i)\n",
    "\n",
    "    # 交换实体顺序\n",
    "    random.shuffle(real_entity)\n",
    "\n",
    "\n",
    "    res_entity = [i[0] for i in real_entity]\n",
    "    res_entity_type = [i[1] for i in real_entity]\n",
    "\n",
    "    for i in non_entity_idx:\n",
    "        res_entity.insert(i, entity[i])\n",
    "        res_entity_type.insert(i, 'O')\n",
    "\n",
    "\n",
    "    # print(res_entity)\n",
    "    # print(res_entity_type)\n",
    "    assert len(entity)==len(res_entity)\n",
    "    assert len(entity_type)==len(res_entity_type)\n",
    "\n",
    "\n",
    "    res_text = ''.join(res_entity)\n",
    "    res_label = []\n",
    "    for idx, t in enumerate(res_entity_type):\n",
    "        if t=='O':\n",
    "            res_label.append(t)\n",
    "        else:\n",
    "            for i in range(len(res_entity[idx])):\n",
    "                if i==0:\n",
    "                    res_label.append('B-'+str(t))\n",
    "                else:\n",
    "                    res_label.append('I-'+str(t))\n",
    "    return res_text, res_label"
   ],
   "metadata": {
    "collapsed": false,
    "pycharm": {
     "name": "#%%\n"
    }
   }
  },
  {
   "cell_type": "code",
   "execution_count": 69,
   "outputs": [
    {
     "name": "stderr",
     "output_type": "stream",
     "text": [
      "100%|██████████| 36000/36000 [00:03<00:00, 10701.75it/s]\n"
     ]
    }
   ],
   "source": [
    "texts = []\n",
    "labels = []\n",
    "for i in tqdm(range(len(df))):\n",
    "    t, l = shuffle_entity(text=df['text'][i],\n",
    "                   label=df['label'][i],\n",
    "                   bio=df['BIO'][i])\n",
    "    texts.append(t)\n",
    "    labels.append(l)"
   ],
   "metadata": {
    "collapsed": false,
    "pycharm": {
     "name": "#%%\n"
    }
   }
  },
  {
   "cell_type": "code",
   "execution_count": 73,
   "outputs": [
    {
     "name": "stderr",
     "output_type": "stream",
     "text": [
      "100%|██████████| 36000/36000 [00:01<00:00, 21059.01it/s]\n"
     ]
    }
   ],
   "source": [
    "with open('./aug_train_9_SE.txt', 'w', encoding='utf-8') as f:\n",
    "    for i in tqdm(range(len(texts))):\n",
    "        tt = list(texts[i])\n",
    "        bb = labels[i]\n",
    "\n",
    "        for j in range(len(tt)):\n",
    "            f.write(tt[j])\n",
    "            f.write(' ')\n",
    "            f.write(bb[j])\n",
    "            f.write('\\n')\n",
    "\n",
    "        f.write('\\n')\n",
    "\n"
   ],
   "metadata": {
    "collapsed": false,
    "pycharm": {
     "name": "#%%\n"
    }
   }
  },
  {
   "cell_type": "code",
   "execution_count": 18,
   "outputs": [],
   "source": [],
   "metadata": {
    "collapsed": false,
    "pycharm": {
     "name": "#%%\n"
    }
   }
  },
  {
   "cell_type": "code",
   "execution_count": 18,
   "outputs": [],
   "source": [],
   "metadata": {
    "collapsed": false,
    "pycharm": {
     "name": "#%%\n"
    }
   }
  },
  {
   "cell_type": "code",
   "execution_count": 18,
   "outputs": [],
   "source": [],
   "metadata": {
    "collapsed": false,
    "pycharm": {
     "name": "#%%\n"
    }
   }
  },
  {
   "cell_type": "code",
   "execution_count": 18,
   "outputs": [],
   "source": [],
   "metadata": {
    "collapsed": false,
    "pycharm": {
     "name": "#%%\n"
    }
   }
  },
  {
   "cell_type": "code",
   "execution_count": 18,
   "outputs": [],
   "source": [],
   "metadata": {
    "collapsed": false,
    "pycharm": {
     "name": "#%%\n"
    }
   }
  },
  {
   "cell_type": "code",
   "execution_count": 18,
   "outputs": [],
   "source": [],
   "metadata": {
    "collapsed": false,
    "pycharm": {
     "name": "#%%\n"
    }
   }
  },
  {
   "cell_type": "code",
   "execution_count": null,
   "outputs": [],
   "source": [
    "\n"
   ],
   "metadata": {
    "collapsed": false,
    "pycharm": {
     "name": "#%%\n"
    }
   }
  }
 ],
 "metadata": {
  "kernelspec": {
   "display_name": "Python 3",
   "language": "python",
   "name": "python3"
  },
  "language_info": {
   "codemirror_mode": {
    "name": "ipython",
    "version": 2
   },
   "file_extension": ".py",
   "mimetype": "text/x-python",
   "name": "python",
   "nbconvert_exporter": "python",
   "pygments_lexer": "ipython2",
   "version": "2.7.6"
  }
 },
 "nbformat": 4,
 "nbformat_minor": 0
}