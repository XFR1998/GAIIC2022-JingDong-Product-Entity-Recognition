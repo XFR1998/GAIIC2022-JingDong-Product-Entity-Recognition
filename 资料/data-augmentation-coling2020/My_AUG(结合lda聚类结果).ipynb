{
 "cells": [
  {
   "cell_type": "code",
   "execution_count": 3,
   "metadata": {
    "collapsed": true
   },
   "outputs": [],
   "source": [
    "import pandas as pd\n",
    "\n",
    "from augment import generate_sentences_by_shuffle_within_segments, generate_sentences_by_replace_mention, generate_sentences_by_replace_token, generate_sentences_by_synonym_replacement\n",
    "from tqdm import tqdm\n",
    "import os\n",
    "\n",
    "\n",
    "import argparse, json, logging, numpy, os, random, sys, torch\n",
    "\n",
    "from data import ConllCorpus\n",
    "from train import train, final_test\n",
    "from models import TransformerEncoder, LinearCRF, MLP\n",
    "from augment import get_category2mentions, get_label2tokens\n"
   ]
  },
  {
   "cell_type": "code",
   "execution_count": 4,
   "outputs": [
    {
     "data": {
      "text/plain": "['0_train.txt',\n '10_train.txt',\n '11_train.txt',\n '12_train.txt',\n '13_train.txt',\n '14_train.txt',\n '1_train.txt',\n '2_train.txt',\n '3_train.txt',\n '4_train.txt',\n '5_train.txt',\n '6_train.txt',\n '7_train.txt',\n '8_train.txt',\n '9_train.txt']"
     },
     "execution_count": 4,
     "metadata": {},
     "output_type": "execute_result"
    }
   ],
   "source": [
    "data_path = 'E:/打工/竞赛/GAIIC/LDA分析/聚类切分结果txt(训练集格式)/'\n",
    "data_list = os.listdir(data_path)\n",
    "data_list"
   ],
   "metadata": {
    "collapsed": false,
    "pycharm": {
     "name": "#%%\n"
    }
   }
  },
  {
   "cell_type": "code",
   "execution_count": 2,
   "outputs": [],
   "source": [],
   "metadata": {
    "collapsed": false,
    "pycharm": {
     "name": "#%%\n"
    }
   }
  },
  {
   "cell_type": "code",
   "execution_count": null,
   "outputs": [],
   "source": [],
   "metadata": {
    "collapsed": false,
    "pycharm": {
     "name": "#%%\n"
    }
   }
  },
  {
   "cell_type": "code",
   "execution_count": null,
   "outputs": [],
   "source": [],
   "metadata": {
    "collapsed": false,
    "pycharm": {
     "name": "#%%\n"
    }
   }
  },
  {
   "cell_type": "code",
   "execution_count": 6,
   "outputs": [
    {
     "name": "stderr",
     "output_type": "stream",
     "text": [
      "100%|██████████| 15/15 [00:23<00:00,  1.59s/it]\n"
     ]
    }
   ],
   "source": [
    "#augmentation_methods = [\"MR\", \"LwTR\", \"SiS\", \"SR\"]\n",
    "augmentation_methods = [\"SR\"]\n",
    "\n",
    "save_path = 'E:/打工/竞赛/GAIIC/LDA分析/按聚类结果增强的数据/'\n",
    "for file in tqdm(data_list):\n",
    "    train_txt = data_path+file\n",
    "    corpus = ConllCorpus('development', train_txt, './data/dev.txt', './data/test.txt')\n",
    "    tag_dict = corpus.build_tag_dict(\"gold\")\n",
    "\n",
    "    category2mentions = get_category2mentions(corpus.train)\n",
    "    label2tokens = get_label2tokens(corpus.train, p_power=1)\n",
    "\n",
    "    augmented_sentences = []\n",
    "    for s in corpus.train:\n",
    "        if \"MR\" in augmentation_methods:\n",
    "                augmented_sentences += generate_sentences_by_replace_mention(sentence=s,\n",
    "                                                                             category2mentions=category2mentions,\n",
    "                                                                             replace_ratio=0.3,\n",
    "                                                                             num_generated_samples=1)\n",
    "        if \"LwTR\" in augmentation_methods:\n",
    "                augmented_sentences += generate_sentences_by_replace_token(sentence=s,\n",
    "                                                                           label2tokens=label2tokens,\n",
    "                                                                           replace_ratio=0.3,\n",
    "                                                                           num_generated_samples=1)\n",
    "        if \"SiS\" in augmentation_methods:\n",
    "                augmented_sentences += generate_sentences_by_shuffle_within_segments(sentence=s,\n",
    "                                                                                     replace_ratio=0.3,\n",
    "                                                                                     num_generated_samples=1)\n",
    "        if \"SR\" in augmentation_methods:\n",
    "                augmented_sentences += generate_sentences_by_synonym_replacement(sentence=s,\n",
    "                                                                                 replace_ratio=0.3,\n",
    "                                                                                 num_generated_samples=1)\n",
    "\n",
    "\n",
    "    with open(save_path+'aug_'+file, 'w', encoding='utf-8') as f:\n",
    "        for s in augmented_sentences:\n",
    "            label = []\n",
    "            for t in s:\n",
    "                label.append(t.get_label(\"gold\"))\n",
    "            token = s.tokens\n",
    "            for name, target in zip(token, label):\n",
    "                f.write(str(name))\n",
    "                f.write(' ')\n",
    "                f.write(target)\n",
    "                f.write('\\n')\n",
    "\n",
    "            f.write('\\n')"
   ],
   "metadata": {
    "collapsed": false,
    "pycharm": {
     "name": "#%%\n"
    }
   }
  },
  {
   "cell_type": "code",
   "execution_count": null,
   "outputs": [],
   "source": [],
   "metadata": {
    "collapsed": false,
    "pycharm": {
     "name": "#%%\n"
    }
   }
  },
  {
   "cell_type": "code",
   "execution_count": 3,
   "outputs": [
    {
     "name": "stderr",
     "output_type": "stream",
     "text": [
      "100%|██████████| 36000/36000 [00:02<00:00, 14254.91it/s]\n"
     ]
    }
   ],
   "source": [
    "\n",
    "\n",
    "\n"
   ],
   "metadata": {
    "collapsed": false,
    "pycharm": {
     "name": "#%%\n"
    }
   }
  },
  {
   "cell_type": "code",
   "execution_count": null,
   "outputs": [],
   "source": [],
   "metadata": {
    "collapsed": false,
    "pycharm": {
     "name": "#%%\n"
    }
   }
  },
  {
   "cell_type": "code",
   "execution_count": null,
   "outputs": [],
   "source": [],
   "metadata": {
    "collapsed": false,
    "pycharm": {
     "name": "#%%\n"
    }
   }
  },
  {
   "cell_type": "code",
   "execution_count": 36,
   "outputs": [
    {
     "data": {
      "text/plain": "'手'"
     },
     "execution_count": 36,
     "metadata": {},
     "output_type": "execute_result"
    }
   ],
   "source": [],
   "metadata": {
    "collapsed": false,
    "pycharm": {
     "name": "#%%\n"
    }
   }
  },
  {
   "cell_type": "code",
   "execution_count": null,
   "outputs": [],
   "source": [],
   "metadata": {
    "collapsed": false,
    "pycharm": {
     "name": "#%%\n"
    }
   }
  },
  {
   "cell_type": "code",
   "execution_count": null,
   "outputs": [],
   "source": [],
   "metadata": {
    "collapsed": false,
    "pycharm": {
     "name": "#%%\n"
    }
   }
  },
  {
   "cell_type": "code",
   "execution_count": null,
   "outputs": [],
   "source": [],
   "metadata": {
    "collapsed": false,
    "pycharm": {
     "name": "#%%\n"
    }
   }
  },
  {
   "cell_type": "code",
   "execution_count": null,
   "outputs": [],
   "source": [],
   "metadata": {
    "collapsed": false,
    "pycharm": {
     "name": "#%%\n"
    }
   }
  },
  {
   "cell_type": "code",
   "execution_count": null,
   "outputs": [],
   "source": [],
   "metadata": {
    "collapsed": false,
    "pycharm": {
     "name": "#%%\n"
    }
   }
  },
  {
   "cell_type": "code",
   "execution_count": null,
   "outputs": [],
   "source": [],
   "metadata": {
    "collapsed": false,
    "pycharm": {
     "name": "#%%\n"
    }
   }
  }
 ],
 "metadata": {
  "kernelspec": {
   "display_name": "Python 3",
   "language": "python",
   "name": "python3"
  },
  "language_info": {
   "codemirror_mode": {
    "name": "ipython",
    "version": 2
   },
   "file_extension": ".py",
   "mimetype": "text/x-python",
   "name": "python",
   "nbconvert_exporter": "python",
   "pygments_lexer": "ipython2",
   "version": "2.7.6"
  }
 },
 "nbformat": 4,
 "nbformat_minor": 0
}