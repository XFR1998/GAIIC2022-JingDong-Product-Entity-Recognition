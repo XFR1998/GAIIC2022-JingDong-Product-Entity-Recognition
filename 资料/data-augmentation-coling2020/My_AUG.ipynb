{
 "cells": [
  {
   "cell_type": "code",
   "execution_count": 6,
   "metadata": {
    "collapsed": true
   },
   "outputs": [
    {
     "name": "stderr",
     "output_type": "stream",
     "text": [
      "100%|██████████| 36000/36000 [00:09<00:00, 3859.45it/s]\n"
     ]
    }
   ],
   "source": [
    "import pandas as pd\n",
    "\n",
    "from augment import generate_sentences_by_shuffle_within_segments, generate_sentences_by_replace_mention, generate_sentences_by_replace_token, generate_sentences_by_synonym_replacement\n",
    "from tqdm import tqdm\n",
    "import numpy as np\n",
    "\n",
    "\n",
    "import argparse, json, logging, numpy, os, random, sys, torch\n",
    "\n",
    "from data import ConllCorpus\n",
    "from train import train, final_test\n",
    "from models import TransformerEncoder, LinearCRF, MLP\n",
    "from augment import get_category2mentions, get_label2tokens\n",
    "\n",
    "\n",
    "\n",
    "\n",
    "corpus = ConllCorpus('development', './data/train_9.txt', './data/dev.txt', './data/test.txt')\n",
    "tag_dict = corpus.build_tag_dict(\"gold\")\n",
    "\n",
    "category2mentions = get_category2mentions(corpus.train)\n",
    "label2tokens = get_label2tokens(corpus.train, p_power=1)\n",
    "# augmentation_methods = [\"MR\", \"LwTR\", \"SiS\", \"SR\"]\n",
    "augmentation_methods = [\"SiS\"]\n",
    "augmented_sentences = []\n",
    "for s in tqdm(corpus.train):\n",
    "        if \"MR\" in augmentation_methods:\n",
    "                augmented_sentences += generate_sentences_by_replace_mention(sentence=s,\n",
    "                                                                             category2mentions=category2mentions,\n",
    "                                                                             replace_ratio=0.3,\n",
    "                                                                             num_generated_samples=1)\n",
    "        if \"LwTR\" in augmentation_methods:\n",
    "                augmented_sentences += generate_sentences_by_replace_token(sentence=s,\n",
    "                                                                           label2tokens=label2tokens,\n",
    "                                                                           replace_ratio=0.3,\n",
    "                                                                           num_generated_samples=1)\n",
    "        if \"SiS\" in augmentation_methods:\n",
    "                augmented_sentences += generate_sentences_by_shuffle_within_segments(sentence=s,\n",
    "                                                                                     replace_ratio=0.5,\n",
    "                                                                                     num_generated_samples=1)\n",
    "        if \"SR\" in augmentation_methods:\n",
    "                augmented_sentences += generate_sentences_by_synonym_replacement(sentence=s,\n",
    "                                                                                 replace_ratio=0.3,\n",
    "                                                                                 num_generated_samples=1)"
   ]
  },
  {
   "cell_type": "code",
   "execution_count": 8,
   "outputs": [
    {
     "name": "stderr",
     "output_type": "stream",
     "text": [
      "100%|██████████| 36000/36000 [00:02<00:00, 15436.09it/s]\n"
     ]
    }
   ],
   "source": [
    "with open('./aug_train_9_data_SIS.txt', 'w', encoding='utf-8') as f:\n",
    "    for s in tqdm(augmented_sentences):\n",
    "        label = []\n",
    "        for t in s:\n",
    "            label.append(t.get_label(\"gold\"))\n",
    "        token = s.tokens\n",
    "        for name, target in zip(token, label):\n",
    "            f.write(str(name))\n",
    "            f.write(' ')\n",
    "            f.write(target)\n",
    "            f.write('\\n')\n",
    "\n",
    "        f.write('\\n')\n",
    "\n",
    "\n"
   ],
   "metadata": {
    "collapsed": false,
    "pycharm": {
     "name": "#%%\n"
    }
   }
  },
  {
   "cell_type": "code",
   "execution_count": null,
   "outputs": [],
   "source": [],
   "metadata": {
    "collapsed": false,
    "pycharm": {
     "name": "#%%\n"
    }
   }
  },
  {
   "cell_type": "code",
   "execution_count": null,
   "outputs": [],
   "source": [
    "choice = np.random.rand()\n",
    "if choice<=0.5:\n",
    "\n",
    "elif choice>0.5:"
   ],
   "metadata": {
    "collapsed": false,
    "pycharm": {
     "name": "#%%\n"
    }
   }
  },
  {
   "cell_type": "code",
   "execution_count": 36,
   "outputs": [
    {
     "data": {
      "text/plain": "'手'"
     },
     "execution_count": 36,
     "metadata": {},
     "output_type": "execute_result"
    }
   ],
   "source": [],
   "metadata": {
    "collapsed": false,
    "pycharm": {
     "name": "#%%\n"
    }
   }
  },
  {
   "cell_type": "code",
   "execution_count": null,
   "outputs": [],
   "source": [],
   "metadata": {
    "collapsed": false,
    "pycharm": {
     "name": "#%%\n"
    }
   }
  },
  {
   "cell_type": "code",
   "execution_count": null,
   "outputs": [],
   "source": [],
   "metadata": {
    "collapsed": false,
    "pycharm": {
     "name": "#%%\n"
    }
   }
  },
  {
   "cell_type": "code",
   "execution_count": null,
   "outputs": [],
   "source": [],
   "metadata": {
    "collapsed": false,
    "pycharm": {
     "name": "#%%\n"
    }
   }
  },
  {
   "cell_type": "code",
   "execution_count": null,
   "outputs": [],
   "source": [],
   "metadata": {
    "collapsed": false,
    "pycharm": {
     "name": "#%%\n"
    }
   }
  },
  {
   "cell_type": "code",
   "execution_count": null,
   "outputs": [],
   "source": [],
   "metadata": {
    "collapsed": false,
    "pycharm": {
     "name": "#%%\n"
    }
   }
  },
  {
   "cell_type": "code",
   "execution_count": null,
   "outputs": [],
   "source": [],
   "metadata": {
    "collapsed": false,
    "pycharm": {
     "name": "#%%\n"
    }
   }
  }
 ],
 "metadata": {
  "kernelspec": {
   "display_name": "Python 3",
   "language": "python",
   "name": "python3"
  },
  "language_info": {
   "codemirror_mode": {
    "name": "ipython",
    "version": 2
   },
   "file_extension": ".py",
   "mimetype": "text/x-python",
   "name": "python",
   "nbconvert_exporter": "python",
   "pygments_lexer": "ipython2",
   "version": "2.7.6"
  }
 },
 "nbformat": 4,
 "nbformat_minor": 0
}